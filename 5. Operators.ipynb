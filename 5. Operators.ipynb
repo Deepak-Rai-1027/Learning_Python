{
 "cells": [
  {
   "cell_type": "markdown",
   "id": "b07ca503",
   "metadata": {},
   "source": [
    "## Operators\n",
    "\n",
    "Operators are special symbols in Python that carry out arithmetic or logical computation. The value that the operator operates on is called the operands.\n",
    "\n",
    "\n",
    "### Operator Type:\n",
    "\n",
    "1. Arithmetic operators\n",
    "2. Comparison (Relational) operators\n",
    "3. Logical (Boolean) operators\n",
    "4. Bitwise operators\n",
    "5. Assignment operators\n",
    "6. Special operators"
   ]
  },
  {
   "cell_type": "markdown",
   "id": "92c83d53",
   "metadata": {},
   "source": [
    "### Arithmetic Operators\n",
    "\n",
    "Arithmetic operators are used to perform mathematical operations like - addition, subtraction, multiplication etc. \n",
    "\n",
    "    + , -, *, /, %, //, **  are arithmetic operators"
   ]
  },
  {
   "cell_type": "code",
   "execution_count": 1,
   "id": "950cfaf2",
   "metadata": {},
   "outputs": [],
   "source": [
    "x, y = 10, 20"
   ]
  },
  {
   "cell_type": "code",
   "execution_count": 2,
   "id": "28a8a9be",
   "metadata": {},
   "outputs": [
    {
     "name": "stdout",
     "output_type": "stream",
     "text": [
      "30\n"
     ]
    }
   ],
   "source": [
    "# addition\n",
    "print(x + y)"
   ]
  },
  {
   "cell_type": "code",
   "execution_count": 3,
   "id": "bc2dd1fe",
   "metadata": {},
   "outputs": [
    {
     "name": "stdout",
     "output_type": "stream",
     "text": [
      "-10\n"
     ]
    }
   ],
   "source": [
    "# subtraction\n",
    "print(x - y)"
   ]
  },
  {
   "cell_type": "code",
   "execution_count": 4,
   "id": "6117a3fe",
   "metadata": {},
   "outputs": [
    {
     "name": "stdout",
     "output_type": "stream",
     "text": [
      "200\n"
     ]
    }
   ],
   "source": [
    "# multiplication\n",
    "print(x * y)"
   ]
  },
  {
   "cell_type": "code",
   "execution_count": 5,
   "id": "6c1f0828",
   "metadata": {},
   "outputs": [
    {
     "name": "stdout",
     "output_type": "stream",
     "text": [
      "0.5\n"
     ]
    }
   ],
   "source": [
    "# division\n",
    "print(x / y)"
   ]
  },
  {
   "cell_type": "code",
   "execution_count": 7,
   "id": "2dc2192d",
   "metadata": {},
   "outputs": [
    {
     "name": "stdout",
     "output_type": "stream",
     "text": [
      "1\n"
     ]
    }
   ],
   "source": [
    "# Remainder of a division\n",
    "print(15 % 2)"
   ]
  },
  {
   "cell_type": "code",
   "execution_count": 8,
   "id": "4f4dc8b7",
   "metadata": {},
   "outputs": [
    {
     "name": "stdout",
     "output_type": "stream",
     "text": [
      "7\n"
     ]
    }
   ],
   "source": [
    "# Floor Division\n",
    "print(15 // 2)"
   ]
  },
  {
   "cell_type": "code",
   "execution_count": 9,
   "id": "77b1d174",
   "metadata": {},
   "outputs": [
    {
     "name": "stdout",
     "output_type": "stream",
     "text": [
      "16\n"
     ]
    }
   ],
   "source": [
    "# Exponent\n",
    "print(2**4)"
   ]
  },
  {
   "cell_type": "markdown",
   "id": "d35688bf",
   "metadata": {},
   "source": [
    "### Comparison Operators\n",
    "\n",
    "Comparison operators are used to compare values. It either returns True or False according to the condition. \n",
    "\n",
    "    >, <, ==, !=, >=, <= are comparison operators"
   ]
  },
  {
   "cell_type": "code",
   "execution_count": 10,
   "id": "9f3fc35a",
   "metadata": {},
   "outputs": [],
   "source": [
    "a, b = 10, 20"
   ]
  },
  {
   "cell_type": "code",
   "execution_count": 11,
   "id": "86d3f759",
   "metadata": {},
   "outputs": [
    {
     "name": "stdout",
     "output_type": "stream",
     "text": [
      "True\n"
     ]
    }
   ],
   "source": [
    "print(a < b)"
   ]
  },
  {
   "cell_type": "code",
   "execution_count": 12,
   "id": "5697238e",
   "metadata": {},
   "outputs": [
    {
     "name": "stdout",
     "output_type": "stream",
     "text": [
      "False\n"
     ]
    }
   ],
   "source": [
    "print(a > b)"
   ]
  },
  {
   "cell_type": "markdown",
   "id": "86293f27",
   "metadata": {},
   "source": [
    "### Logical Operators\n",
    "\n",
    "Logical operators are <b>and, or, not </b> operators."
   ]
  },
  {
   "cell_type": "code",
   "execution_count": 13,
   "id": "2e8d2976",
   "metadata": {},
   "outputs": [],
   "source": [
    "a, b = True, False"
   ]
  },
  {
   "cell_type": "code",
   "execution_count": 14,
   "id": "34e11149",
   "metadata": {},
   "outputs": [
    {
     "name": "stdout",
     "output_type": "stream",
     "text": [
      "False\n"
     ]
    }
   ],
   "source": [
    "print(a and b)"
   ]
  },
  {
   "cell_type": "code",
   "execution_count": 15,
   "id": "7312ba12",
   "metadata": {},
   "outputs": [
    {
     "name": "stdout",
     "output_type": "stream",
     "text": [
      "True\n"
     ]
    }
   ],
   "source": [
    "print(a or b)"
   ]
  },
  {
   "cell_type": "markdown",
   "id": "12d2f7bb",
   "metadata": {},
   "source": [
    "### Bitwise operators\n",
    "\n",
    "Bitwise operators act on operands as if they were string of binary digits. It operates bit by bit\n",
    "\n",
    "    &, |, ~, ^, >>, << are Bitwise operators"
   ]
  },
  {
   "cell_type": "code",
   "execution_count": 16,
   "id": "e9265f10",
   "metadata": {},
   "outputs": [],
   "source": [
    "a, b = 10, 4"
   ]
  },
  {
   "cell_type": "code",
   "execution_count": 17,
   "id": "11ad47f3",
   "metadata": {},
   "outputs": [
    {
     "name": "stdout",
     "output_type": "stream",
     "text": [
      "0\n"
     ]
    }
   ],
   "source": [
    "# Bitwise AND\n",
    "print( a & b)"
   ]
  },
  {
   "cell_type": "code",
   "execution_count": 18,
   "id": "cb7e3c3c",
   "metadata": {},
   "outputs": [
    {
     "name": "stdout",
     "output_type": "stream",
     "text": [
      "14\n"
     ]
    }
   ],
   "source": [
    "# Bitwise OR\n",
    "print( a | b)"
   ]
  },
  {
   "cell_type": "markdown",
   "id": "0032a05b",
   "metadata": {},
   "source": [
    "### Assignment operators\n",
    "\n",
    "Assignment operators are used in Python to assign values to variables. \n",
    "\n",
    "a = 5 is a simple assignment operator that assigns the value 5 on the right to the variable 'a' on the left. \n",
    "\n",
    "    =, +=, -=, *=, /=, %=, //=, **=, &=, |=, ^=, >>=, <<= are assignment operators"
   ]
  },
  {
   "cell_type": "code",
   "execution_count": 19,
   "id": "8b7c15e9",
   "metadata": {},
   "outputs": [
    {
     "name": "stdout",
     "output_type": "stream",
     "text": [
      "10\n"
     ]
    }
   ],
   "source": [
    "a = 10\n",
    "\n",
    "print(a)"
   ]
  },
  {
   "cell_type": "code",
   "execution_count": 20,
   "id": "82eb509b",
   "metadata": {},
   "outputs": [
    {
     "name": "stdout",
     "output_type": "stream",
     "text": [
      "20\n"
     ]
    }
   ],
   "source": [
    "a += 10\n",
    "\n",
    "print(a)"
   ]
  },
  {
   "cell_type": "markdown",
   "id": "541d5abc",
   "metadata": {},
   "source": [
    "### Special Operators\n",
    "\n",
    "#### Identity Operators\n",
    "\n",
    "<b> is and is not </b> are the identity operators in Python.\n",
    "\n",
    "They used to check if two values (or variables) are located on the same part of the memory."
   ]
  },
  {
   "cell_type": "code",
   "execution_count": 21,
   "id": "a24ab22b",
   "metadata": {},
   "outputs": [],
   "source": [
    "a = 5\n",
    "b = 5"
   ]
  },
  {
   "cell_type": "code",
   "execution_count": 22,
   "id": "a6d64249",
   "metadata": {},
   "outputs": [
    {
     "name": "stdout",
     "output_type": "stream",
     "text": [
      "True\n"
     ]
    }
   ],
   "source": [
    "print(a is b)"
   ]
  },
  {
   "cell_type": "code",
   "execution_count": 23,
   "id": "b355e7cd",
   "metadata": {},
   "outputs": [],
   "source": [
    "l1 = [1,2,3]\n",
    "l2 = [1,2,3]"
   ]
  },
  {
   "cell_type": "code",
   "execution_count": 24,
   "id": "0f2ffa9e",
   "metadata": {},
   "outputs": [
    {
     "name": "stdout",
     "output_type": "stream",
     "text": [
      "False\n"
     ]
    }
   ],
   "source": [
    "print(l1 is l2)"
   ]
  },
  {
   "cell_type": "code",
   "execution_count": 25,
   "id": "0bf0a3c6",
   "metadata": {},
   "outputs": [],
   "source": [
    "s1 = \"Deepak\"\n",
    "s2 = \"Deepak\""
   ]
  },
  {
   "cell_type": "code",
   "execution_count": 26,
   "id": "b5dd022e",
   "metadata": {},
   "outputs": [
    {
     "name": "stdout",
     "output_type": "stream",
     "text": [
      "False\n"
     ]
    }
   ],
   "source": [
    "print(s1 is not s2)"
   ]
  },
  {
   "cell_type": "code",
   "execution_count": 27,
   "id": "6e23d121",
   "metadata": {},
   "outputs": [
    {
     "name": "stdout",
     "output_type": "stream",
     "text": [
      "True\n"
     ]
    }
   ],
   "source": [
    "print(s1 is s2)"
   ]
  },
  {
   "cell_type": "markdown",
   "id": "5079f495",
   "metadata": {},
   "source": [
    "### Membership Operators\n",
    "\n",
    "<b> in and not in </b> are the mebership operators in Python.\n",
    "\n",
    "They are used to test whether a value or variable is found in a sequence (string, list, tuple, set and dictionary)."
   ]
  },
  {
   "cell_type": "code",
   "execution_count": 28,
   "id": "e0155c7a",
   "metadata": {},
   "outputs": [],
   "source": [
    "lst = [1,2,3,4]"
   ]
  },
  {
   "cell_type": "code",
   "execution_count": 29,
   "id": "02cf58c8",
   "metadata": {},
   "outputs": [
    {
     "name": "stdout",
     "output_type": "stream",
     "text": [
      "True\n"
     ]
    }
   ],
   "source": [
    "print(1 in lst)"
   ]
  },
  {
   "cell_type": "code",
   "execution_count": 30,
   "id": "44337e1d",
   "metadata": {},
   "outputs": [],
   "source": [
    "d = {1: \"a\", 2: \"b\"}"
   ]
  },
  {
   "cell_type": "code",
   "execution_count": 32,
   "id": "a06e74e5",
   "metadata": {},
   "outputs": [
    {
     "name": "stdout",
     "output_type": "stream",
     "text": [
      "True\n"
     ]
    }
   ],
   "source": [
    "# We can only check keys\n",
    "print(1 in d)"
   ]
  },
  {
   "cell_type": "code",
   "execution_count": 33,
   "id": "734f1a52",
   "metadata": {},
   "outputs": [
    {
     "name": "stdout",
     "output_type": "stream",
     "text": [
      "False\n"
     ]
    }
   ],
   "source": [
    "print(\"a\" in d)"
   ]
  },
  {
   "cell_type": "code",
   "execution_count": null,
   "id": "c7203663",
   "metadata": {},
   "outputs": [],
   "source": []
  }
 ],
 "metadata": {
  "kernelspec": {
   "display_name": "Python 3 (ipykernel)",
   "language": "python",
   "name": "python3"
  },
  "language_info": {
   "codemirror_mode": {
    "name": "ipython",
    "version": 3
   },
   "file_extension": ".py",
   "mimetype": "text/x-python",
   "name": "python",
   "nbconvert_exporter": "python",
   "pygments_lexer": "ipython3",
   "version": "3.9.7"
  }
 },
 "nbformat": 4,
 "nbformat_minor": 5
}
