{
 "cells": [
  {
   "cell_type": "markdown",
   "id": "78b1925b",
   "metadata": {},
   "source": [
    "## File I/O"
   ]
  },
  {
   "cell_type": "markdown",
   "id": "2d5a8d7c",
   "metadata": {},
   "source": [
    "File is a named location on disk to store related information. It is used to permanently store data in a non-volatile memory (e.g. hard disk).\n",
    "\n",
    "Since, random access memory (RAM) is volatile which loses its data when computer is turned off, we use files for future use of the data.\n",
    "\n",
    "When we want to read from or write to a file we need to open it first. When we are done, it needs to be closed, so that resources that are tied with the file are freed. \n",
    "\n",
    "**File Operations:**\n",
    "\n",
    "1. Open a file\n",
    "2. Read or write (perform operation)\n",
    "3. Close the file"
   ]
  },
  {
   "cell_type": "markdown",
   "id": "04a2e71b",
   "metadata": {},
   "source": [
    "### Opening a File\n",
    "\n",
    "Python has a built-in function **open()** to open a file. This function returns a file object, also called a handle, as it is used to read or modify the file accordingly."
   ]
  },
  {
   "cell_type": "code",
   "execution_count": 1,
   "id": "1ac68655",
   "metadata": {},
   "outputs": [],
   "source": [
    "# open file in current directory\n",
    "f = open('example.txt')"
   ]
  },
  {
   "cell_type": "markdown",
   "id": "0c19558c",
   "metadata": {},
   "source": [
    "We can specify the mode while opening a file. In mode, we specify whether we want to **read 'r'**, **write 'w'** or **append 'a'** to the file. We also specify if we want to open the file in **text mode or binary mode**. "
   ]
  },
  {
   "cell_type": "markdown",
   "id": "b0c4b366",
   "metadata": {},
   "source": [
    "### Python File Modes\n",
    "\n",
    "**'r'** - Open a file for reading. (default)\n",
    "\n",
    "**'w'** - Open a file for writing. Creates a new file if it doesn't exist or truncates\\replace the file if it exists.\n",
    "\n",
    "**'x'** - Open a file for exclusive creation. If the file already exists, the operation fails. \n",
    "\n",
    "**'a'** - Open for appending at the end of the file without truncating it. Creates a new file if it doesn't exists.\n",
    "\n",
    "**'t'** - Open in text mode. (default)\n",
    "\n",
    "**'b'** - Open in binary mode. \n",
    "\n",
    "**'+'** - Open a file for updating (reading and writing)"
   ]
  },
  {
   "cell_type": "code",
   "execution_count": 2,
   "id": "cabc55c0",
   "metadata": {},
   "outputs": [],
   "source": [
    "# create the file handle with all default options\n",
    "f = open('example.txt')"
   ]
  },
  {
   "cell_type": "code",
   "execution_count": 3,
   "id": "c8a703ab",
   "metadata": {},
   "outputs": [],
   "source": [
    "# open the file in read mode\n",
    "f = open('example.txt', 'r')"
   ]
  },
  {
   "cell_type": "code",
   "execution_count": 4,
   "id": "bce346c9",
   "metadata": {},
   "outputs": [
    {
     "name": "stdout",
     "output_type": "stream",
     "text": [
      "<_io.TextIOWrapper name='example.txt' mode='r' encoding='cp1252'>\n"
     ]
    }
   ],
   "source": [
    "print(f)"
   ]
  },
  {
   "cell_type": "code",
   "execution_count": 5,
   "id": "f201e773",
   "metadata": {},
   "outputs": [],
   "source": [
    "# open the file in write mode\n",
    "f = open('example.txt', 'w')"
   ]
  },
  {
   "cell_type": "code",
   "execution_count": 6,
   "id": "8c4154f6",
   "metadata": {},
   "outputs": [
    {
     "name": "stdout",
     "output_type": "stream",
     "text": [
      "<_io.TextIOWrapper name='example.txt' mode='w' encoding='cp1252'>\n"
     ]
    }
   ],
   "source": [
    "print(f)"
   ]
  },
  {
   "cell_type": "markdown",
   "id": "b591a675",
   "metadata": {},
   "source": [
    "The default encoding is platform dependent. In Windows, it is 'cp1252' but in Linux it is 'utf-8'.\n",
    "\n",
    "So, we must not also reply on the default encoding or else our code will behave differently in different platforms. \n",
    "\n",
    "Hence, when working with files in text mode, it is highly recommended to specify the encoding type. "
   ]
  },
  {
   "cell_type": "markdown",
   "id": "27c9212f",
   "metadata": {},
   "source": [
    "### Closing a File\n",
    "\n",
    "Closing a file will free up the resources that were tied with the file and is done using the **close()** method. \n",
    "\n",
    "Python has a garbage collector to clean up unreferenced objects, but we must not rely on it to close the file. "
   ]
  },
  {
   "cell_type": "code",
   "execution_count": 7,
   "id": "932b4221",
   "metadata": {},
   "outputs": [],
   "source": [
    "f = open('example.txt')"
   ]
  },
  {
   "cell_type": "code",
   "execution_count": 8,
   "id": "71708ca0",
   "metadata": {},
   "outputs": [],
   "source": [
    "f.close()"
   ]
  },
  {
   "cell_type": "markdown",
   "id": "3cb8cf28",
   "metadata": {},
   "source": [
    "This method is not entirely safe. If an exception occurs when we are performing some operation with the file, the code exits without closing the file.\n",
    "\n",
    "A safer way is to use a try...finally block."
   ]
  },
  {
   "cell_type": "code",
   "execution_count": 9,
   "id": "38423ab9",
   "metadata": {},
   "outputs": [],
   "source": [
    "# exception handling\n",
    "try:\n",
    "    # perform file operations\n",
    "    f = open('example.txt')\n",
    "    \n",
    "finally:\n",
    "    f.close()"
   ]
  },
  {
   "cell_type": "markdown",
   "id": "113eb8ff",
   "metadata": {},
   "source": [
    "This way, we are guaranteed that the file is properly closed even if an exception is raised, causing program flow to stop.\n",
    "\n",
    "The best way to do this is using the with statement. This ensures that the file is closed when the block inside with is exited. \n",
    "\n",
    "We don't need to explicitly call the close() method. It is done internally. \n",
    "\n",
    "        with open('example.txt', encoding = 'utf8') as f:\n",
    "            # perform file operations"
   ]
  },
  {
   "cell_type": "markdown",
   "id": "517ede26",
   "metadata": {},
   "source": [
    "### Write to a File \n",
    "\n",
    "In order to write into a file we need to open it in **write 'w', append 'a' or exclusive creation 'x' mode**.\n",
    "\n",
    "We need to be careful with the 'w' mode as it will overwrite into the file if it already exists. All previous data are erased. \n",
    "\n",
    "Writing a string or sequence of bytes (for binary files) is done using the **write()** method. This method returns the number of characters written to the file. "
   ]
  },
  {
   "cell_type": "code",
   "execution_count": 11,
   "id": "dca09c54",
   "metadata": {},
   "outputs": [],
   "source": [
    "f = open('test.txt', 'w')\n",
    "f.write(\"This is a First File\\n\")\n",
    "f.write(\"Contains two lines\\n\")\n",
    "f.close()"
   ]
  },
  {
   "cell_type": "markdown",
   "id": "eaebbdf0",
   "metadata": {},
   "source": [
    "This program will create a new file named 'test.txt' if it doesn't exist. If it does exist, it is overwritten."
   ]
  },
  {
   "cell_type": "markdown",
   "id": "5fb40c18",
   "metadata": {},
   "source": [
    "### Reading From a File\n",
    "\n",
    "There are various methods available for this purpose. We can use the **read(size)** method to read in size number of data. If size parameter is not specified, it reads and returns up to the end of the file."
   ]
  },
  {
   "cell_type": "code",
   "execution_count": 12,
   "id": "4b0e5983",
   "metadata": {},
   "outputs": [
    {
     "data": {
      "text/plain": [
       "'This is a First File\\nContains two lines\\n'"
      ]
     },
     "execution_count": 12,
     "metadata": {},
     "output_type": "execute_result"
    }
   ],
   "source": [
    "f = open(\"test.txt\", 'r')\n",
    "f.read()"
   ]
  },
  {
   "cell_type": "code",
   "execution_count": 14,
   "id": "7d20447a",
   "metadata": {},
   "outputs": [
    {
     "data": {
      "text/plain": [
       "'This'"
      ]
     },
     "execution_count": 14,
     "metadata": {},
     "output_type": "execute_result"
    }
   ],
   "source": [
    "f = open(\"test.txt\", 'r')\n",
    "\n",
    "# it will read the first 4 characters\n",
    "f.read(4)"
   ]
  },
  {
   "cell_type": "code",
   "execution_count": 15,
   "id": "e0a65ffc",
   "metadata": {},
   "outputs": [
    {
     "data": {
      "text/plain": [
       "' is a Firs'"
      ]
     },
     "execution_count": 15,
     "metadata": {},
     "output_type": "execute_result"
    }
   ],
   "source": [
    "# it will read the next 10 characters from the current cursor location.\n",
    "f.read(10)"
   ]
  },
  {
   "cell_type": "markdown",
   "id": "dc078f4a",
   "metadata": {},
   "source": [
    "We can change our current file cursor (position) using the **seek()** method. \n",
    "\n",
    "Similarly, the **tell()** method returns our current position (in number of bytes)."
   ]
  },
  {
   "cell_type": "code",
   "execution_count": 16,
   "id": "5291bb89",
   "metadata": {},
   "outputs": [
    {
     "data": {
      "text/plain": [
       "14"
      ]
     },
     "execution_count": 16,
     "metadata": {},
     "output_type": "execute_result"
    }
   ],
   "source": [
    "# returns the current cursor location\n",
    "f.tell()"
   ]
  },
  {
   "cell_type": "code",
   "execution_count": 17,
   "id": "333ae808",
   "metadata": {},
   "outputs": [
    {
     "data": {
      "text/plain": [
       "0"
      ]
     },
     "execution_count": 17,
     "metadata": {},
     "output_type": "execute_result"
    }
   ],
   "source": [
    "# if we want to bring the file cursor to initial position\n",
    "f.seek(0)"
   ]
  },
  {
   "cell_type": "code",
   "execution_count": 18,
   "id": "f7ac68dd",
   "metadata": {},
   "outputs": [
    {
     "name": "stdout",
     "output_type": "stream",
     "text": [
      "This is a First File\n",
      "Contains two lines\n",
      "\n"
     ]
    }
   ],
   "source": [
    "# read the entire file\n",
    "print(f.read())"
   ]
  },
  {
   "cell_type": "markdown",
   "id": "5c65bdc0",
   "metadata": {},
   "source": [
    "We can read a file line-by-line using a for loop. This is both efficient and fast."
   ]
  },
  {
   "cell_type": "code",
   "execution_count": 19,
   "id": "fd0b597c",
   "metadata": {},
   "outputs": [
    {
     "name": "stdout",
     "output_type": "stream",
     "text": [
      "This is a First File\n",
      "\n",
      "Contains two lines\n",
      "\n"
     ]
    }
   ],
   "source": [
    "f.seek(0)\n",
    "\n",
    "for line in f:\n",
    "    print(line)"
   ]
  },
  {
   "cell_type": "markdown",
   "id": "f228d368",
   "metadata": {},
   "source": [
    "Alternately, we can use **readline()** method to read individual lines of a file. This method reads a file till the newline, including the newline character. "
   ]
  },
  {
   "cell_type": "code",
   "execution_count": 20,
   "id": "0a7c236f",
   "metadata": {},
   "outputs": [
    {
     "data": {
      "text/plain": [
       "'This is a First File\\n'"
      ]
     },
     "execution_count": 20,
     "metadata": {},
     "output_type": "execute_result"
    }
   ],
   "source": [
    "f = open(\"test.txt\", \"r\")\n",
    "f.readline()"
   ]
  },
  {
   "cell_type": "code",
   "execution_count": 21,
   "id": "a0aa8b95",
   "metadata": {},
   "outputs": [
    {
     "data": {
      "text/plain": [
       "'Contains two lines\\n'"
      ]
     },
     "execution_count": 21,
     "metadata": {},
     "output_type": "execute_result"
    }
   ],
   "source": [
    "f.readline()"
   ]
  },
  {
   "cell_type": "code",
   "execution_count": 22,
   "id": "0316c12e",
   "metadata": {},
   "outputs": [
    {
     "data": {
      "text/plain": [
       "''"
      ]
     },
     "execution_count": 22,
     "metadata": {},
     "output_type": "execute_result"
    }
   ],
   "source": [
    "f.readline()"
   ]
  },
  {
   "cell_type": "markdown",
   "id": "a40ce345",
   "metadata": {},
   "source": [
    "The **readlines()** method returns a list of remaining lines of the entire file. All these reading method return empty values when end of file (EOF) is reached."
   ]
  },
  {
   "cell_type": "code",
   "execution_count": 26,
   "id": "1791a27d",
   "metadata": {},
   "outputs": [],
   "source": [
    "f.seek(0)\n",
    "\n",
    "f.readlines()\n",
    "f.close()"
   ]
  },
  {
   "cell_type": "markdown",
   "id": "0efe75f0",
   "metadata": {},
   "source": [
    "## Renaming And Deleting Files in Python\n",
    "\n",
    "While we were using the **read/write** functions, we may also need to **rename/delete** a file in Python. So, there comes a **os** module in Python which brings the support of file **rename/delete** operations. \n",
    "\n",
    "So, to continue, first of all, we should import the **os** module in our Python script."
   ]
  },
  {
   "cell_type": "code",
   "execution_count": 24,
   "id": "110b9991",
   "metadata": {},
   "outputs": [],
   "source": [
    "import os"
   ]
  },
  {
   "cell_type": "code",
   "execution_count": 27,
   "id": "c6747880",
   "metadata": {},
   "outputs": [],
   "source": [
    "# rename a file from 'test.txt' to 'sample.txt'\n",
    "os.rename(\"test.txt\", \"sample.txt\")"
   ]
  },
  {
   "cell_type": "code",
   "execution_count": 30,
   "id": "e7ba54f0",
   "metadata": {},
   "outputs": [],
   "source": [
    "f = open(\"sample.txt\", 'r')\n",
    "f.readline()\n",
    "f.close()"
   ]
  },
  {
   "cell_type": "code",
   "execution_count": 31,
   "id": "457a6e4b",
   "metadata": {},
   "outputs": [],
   "source": [
    "# delete a file 'sample.txt'\n",
    "os.remove(\"sample.txt\")"
   ]
  },
  {
   "cell_type": "code",
   "execution_count": 32,
   "id": "d6bf7c3e",
   "metadata": {},
   "outputs": [
    {
     "ename": "FileNotFoundError",
     "evalue": "[Errno 2] No such file or directory: 'sample.txt'",
     "output_type": "error",
     "traceback": [
      "\u001b[1;31m---------------------------------------------------------------------------\u001b[0m",
      "\u001b[1;31mFileNotFoundError\u001b[0m                         Traceback (most recent call last)",
      "\u001b[1;32m~\\AppData\\Local\\Temp/ipykernel_15156/3537016184.py\u001b[0m in \u001b[0;36m<module>\u001b[1;34m\u001b[0m\n\u001b[1;32m----> 1\u001b[1;33m \u001b[0mf\u001b[0m \u001b[1;33m=\u001b[0m \u001b[0mopen\u001b[0m\u001b[1;33m(\u001b[0m\u001b[1;34m\"sample.txt\"\u001b[0m\u001b[1;33m,\u001b[0m \u001b[1;34m'r'\u001b[0m\u001b[1;33m)\u001b[0m\u001b[1;33m\u001b[0m\u001b[1;33m\u001b[0m\u001b[0m\n\u001b[0m\u001b[0;32m      2\u001b[0m \u001b[0mf\u001b[0m\u001b[1;33m.\u001b[0m\u001b[0mreadline\u001b[0m\u001b[1;33m(\u001b[0m\u001b[1;33m)\u001b[0m\u001b[1;33m\u001b[0m\u001b[1;33m\u001b[0m\u001b[0m\n",
      "\u001b[1;31mFileNotFoundError\u001b[0m: [Errno 2] No such file or directory: 'sample.txt'"
     ]
    }
   ],
   "source": [
    "f = open(\"sample.txt\", 'r')\n",
    "f.readline()"
   ]
  },
  {
   "cell_type": "markdown",
   "id": "2116f41a",
   "metadata": {},
   "source": [
    "## Python Directory and File Management\n",
    "\n",
    "If there are a large number of files to handle in our Python program, we can arrange our code within different directories to make things more manageable.\n",
    "\n",
    "A directory or folder is a collection of files and sub directories. Python has the **os** module, which provides us with many useful methods to work with directories (and files as well). \n",
    "\n",
    "\n",
    "**Get Current Directory**\n",
    "\n",
    "\n",
    "We can get the present working directory using the **getcwd()** method.\n",
    "\n",
    "This methods returns the current working directory in the form of a string."
   ]
  },
  {
   "cell_type": "code",
   "execution_count": 44,
   "id": "c121c46f",
   "metadata": {},
   "outputs": [
    {
     "data": {
      "text/plain": [
       "'F:\\\\Data Science Rahul\\\\AppliedAICourse_Deepak\\\\Deepak_Lab'"
      ]
     },
     "execution_count": 44,
     "metadata": {},
     "output_type": "execute_result"
    }
   ],
   "source": [
    "import os\n",
    "\n",
    "os.getcwd()"
   ]
  },
  {
   "cell_type": "markdown",
   "id": "8e9fed18",
   "metadata": {},
   "source": [
    "### Changing Directory\n",
    "\n",
    "We can change the current working directory using the **chdir()** method. \n",
    "\n",
    "The new path that we want to change to must be supplied as a string to this method. We can use both forward slash '(/)' or the backward slash (\\) to separate path elements. "
   ]
  },
  {
   "cell_type": "code",
   "execution_count": 43,
   "id": "a1968429",
   "metadata": {},
   "outputs": [],
   "source": [
    "os.chdir(\"F:\\\\Data Science Rahul\\\\AppliedAICourse_Deepak\\\\\")"
   ]
  },
  {
   "cell_type": "code",
   "execution_count": 42,
   "id": "523ec6fd",
   "metadata": {},
   "outputs": [
    {
     "data": {
      "text/plain": [
       "'F:\\\\Data Science Rahul\\\\AppliedAICourse_Deepak'"
      ]
     },
     "execution_count": 42,
     "metadata": {},
     "output_type": "execute_result"
    }
   ],
   "source": [
    "os.getcwd()"
   ]
  },
  {
   "cell_type": "markdown",
   "id": "11acb3bc",
   "metadata": {},
   "source": [
    "### List Directories and Files\n",
    "\n",
    "All files and sub directories inside a directory can be known using the **listdir()** method."
   ]
  },
  {
   "cell_type": "code",
   "execution_count": 45,
   "id": "4f818cc8",
   "metadata": {},
   "outputs": [
    {
     "data": {
      "text/plain": [
       "['.ipynb_checkpoints',\n",
       " '1. Keywords and identifiers.ipynb',\n",
       " '10. Python List.ipynb',\n",
       " '11. Tuples.ipynb',\n",
       " '12. Python Sets.ipynb',\n",
       " '13. Python Dictionary.ipynb',\n",
       " '14. Strings.ipynb',\n",
       " '15. Python Functions.ipynb',\n",
       " '16. Python Modules.ipynb',\n",
       " '17. Python Packages.ipynb',\n",
       " '18. File Handling.ipynb',\n",
       " '2. Comments, Indentation and Statements.ipynb',\n",
       " '3. Variables and Data Types in Python.ipynb',\n",
       " '4. Standard Input and Output.ipynb',\n",
       " '5. Operators.ipynb',\n",
       " '6. Control flow if else.ipynb',\n",
       " '7. Control flow while loop.ipynb',\n",
       " '8. Control flow for loop.ipynb',\n",
       " '9. Control flow break and continue.ipynb',\n",
       " 'example.txt']"
      ]
     },
     "execution_count": 45,
     "metadata": {},
     "output_type": "execute_result"
    }
   ],
   "source": [
    "os.listdir(os.getcwd())"
   ]
  },
  {
   "cell_type": "markdown",
   "id": "0c8131b0",
   "metadata": {},
   "source": [
    "### Making New Directory\n",
    "\n",
    "We can make a new directory using the **mkdir()** method. \n",
    "\n",
    "This method takes in the path of the new directory. If the full path is not specified, the new directory is created in the current working directory. "
   ]
  },
  {
   "cell_type": "code",
   "execution_count": 46,
   "id": "88e41e72",
   "metadata": {},
   "outputs": [],
   "source": [
    "# create an empty directory\n",
    "os.mkdir('test')"
   ]
  },
  {
   "cell_type": "markdown",
   "id": "e1bc652c",
   "metadata": {},
   "source": [
    "### Removing Directory\n",
    "\n",
    "We can use the **rmdir()** method that can only remove empty directories.\n",
    "\n",
    "In order to remove a non-empty directory we can use the **rmtree()** method inside the **shutil** module."
   ]
  },
  {
   "cell_type": "code",
   "execution_count": 47,
   "id": "f1325191",
   "metadata": {},
   "outputs": [],
   "source": [
    "# remove an empty directory\n",
    "os.rmdir('test')"
   ]
  },
  {
   "cell_type": "code",
   "execution_count": 48,
   "id": "52db6329",
   "metadata": {},
   "outputs": [],
   "source": [
    "# remove a non-empty directory\n",
    "import shutil\n",
    "\n",
    "# create an empty directory\n",
    "os.mkdir('test')"
   ]
  },
  {
   "cell_type": "code",
   "execution_count": 49,
   "id": "67e7eabf",
   "metadata": {},
   "outputs": [],
   "source": [
    "# change the current directory path to the new directory\n",
    "os.chdir('./test')"
   ]
  },
  {
   "cell_type": "code",
   "execution_count": 50,
   "id": "6ba5aa7c",
   "metadata": {},
   "outputs": [
    {
     "data": {
      "text/plain": [
       "'F:\\\\Data Science Rahul\\\\AppliedAICourse_Deepak\\\\Deepak_Lab\\\\test'"
      ]
     },
     "execution_count": 50,
     "metadata": {},
     "output_type": "execute_result"
    }
   ],
   "source": [
    "os.getcwd()"
   ]
  },
  {
   "cell_type": "code",
   "execution_count": 52,
   "id": "74e4f30f",
   "metadata": {},
   "outputs": [],
   "source": [
    "# create a text file inside the new directory\n",
    "f = open(\"testfile.txt\", \"w\")\n",
    "\n",
    "f.write(\"Hello World\")\n",
    "\n",
    "f.close()"
   ]
  },
  {
   "cell_type": "code",
   "execution_count": 53,
   "id": "95f019ac",
   "metadata": {},
   "outputs": [
    {
     "data": {
      "text/plain": [
       "'F:\\\\Data Science Rahul\\\\AppliedAICourse_Deepak\\\\Deepak_Lab'"
      ]
     },
     "execution_count": 53,
     "metadata": {},
     "output_type": "execute_result"
    }
   ],
   "source": [
    "os.chdir(\"../\")\n",
    "\n",
    "os.getcwd()"
   ]
  },
  {
   "cell_type": "code",
   "execution_count": 54,
   "id": "207c82dc",
   "metadata": {},
   "outputs": [
    {
     "ename": "OSError",
     "evalue": "[WinError 145] The directory is not empty: 'test'",
     "output_type": "error",
     "traceback": [
      "\u001b[1;31m---------------------------------------------------------------------------\u001b[0m",
      "\u001b[1;31mOSError\u001b[0m                                   Traceback (most recent call last)",
      "\u001b[1;32m~\\AppData\\Local\\Temp/ipykernel_15156/1997943055.py\u001b[0m in \u001b[0;36m<module>\u001b[1;34m\u001b[0m\n\u001b[0;32m      1\u001b[0m \u001b[1;31m# this will return an error because the directory is not empty\u001b[0m\u001b[1;33m\u001b[0m\u001b[1;33m\u001b[0m\u001b[0m\n\u001b[1;32m----> 2\u001b[1;33m \u001b[0mos\u001b[0m\u001b[1;33m.\u001b[0m\u001b[0mrmdir\u001b[0m\u001b[1;33m(\u001b[0m\u001b[1;34m'test'\u001b[0m\u001b[1;33m)\u001b[0m\u001b[1;33m\u001b[0m\u001b[1;33m\u001b[0m\u001b[0m\n\u001b[0m",
      "\u001b[1;31mOSError\u001b[0m: [WinError 145] The directory is not empty: 'test'"
     ]
    }
   ],
   "source": [
    "# this will return an error because the directory is not empty\n",
    "os.rmdir('test')"
   ]
  },
  {
   "cell_type": "code",
   "execution_count": 55,
   "id": "c47804a3",
   "metadata": {},
   "outputs": [],
   "source": [
    "# remove an non-empty directory\n",
    "shutil.rmtree('test')"
   ]
  },
  {
   "cell_type": "code",
   "execution_count": 56,
   "id": "3c7028d9",
   "metadata": {},
   "outputs": [
    {
     "data": {
      "text/plain": [
       "'F:\\\\Data Science Rahul\\\\AppliedAICourse_Deepak\\\\Deepak_Lab'"
      ]
     },
     "execution_count": 56,
     "metadata": {},
     "output_type": "execute_result"
    }
   ],
   "source": [
    "os.getcwd()"
   ]
  },
  {
   "cell_type": "code",
   "execution_count": null,
   "id": "6d06c7ca",
   "metadata": {},
   "outputs": [],
   "source": []
  }
 ],
 "metadata": {
  "kernelspec": {
   "display_name": "Python 3 (ipykernel)",
   "language": "python",
   "name": "python3"
  },
  "language_info": {
   "codemirror_mode": {
    "name": "ipython",
    "version": 3
   },
   "file_extension": ".py",
   "mimetype": "text/x-python",
   "name": "python",
   "nbconvert_exporter": "python",
   "pygments_lexer": "ipython3",
   "version": "3.9.7"
  }
 },
 "nbformat": 4,
 "nbformat_minor": 5
}
