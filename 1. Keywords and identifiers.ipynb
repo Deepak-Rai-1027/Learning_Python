{
 "cells": [
  {
   "cell_type": "markdown",
   "id": "337f6690",
   "metadata": {},
   "source": [
    "## Python Keywords\n",
    "\n",
    "* Keywords are the reserved words in Python.\n",
    "* We can't use a keyword as variable name, function name or any other identifier.\n",
    "* Keywords are case sensitive."
   ]
  },
  {
   "cell_type": "code",
   "execution_count": 3,
   "id": "aaa557a0",
   "metadata": {},
   "outputs": [
    {
     "name": "stdout",
     "output_type": "stream",
     "text": [
      "['False', 'None', 'True', '__peg_parser__', 'and', 'as', 'assert', 'async', 'await', 'break', 'class', 'continue', 'def', 'del', 'elif', 'else', 'except', 'finally', 'for', 'from', 'global', 'if', 'import', 'in', 'is', 'lambda', 'nonlocal', 'not', 'or', 'pass', 'raise', 'return', 'try', 'while', 'with', 'yield']\n",
      "\n",
      "Total number of keywords:  36\n"
     ]
    }
   ],
   "source": [
    "# Get all keywords in Python\n",
    "import keyword\n",
    "\n",
    "print(keyword.kwlist)\n",
    "\n",
    "print(\"\\nTotal number of keywords: \", len(keyword.kwlist))"
   ]
  },
  {
   "cell_type": "markdown",
   "id": "f5eed1aa",
   "metadata": {},
   "source": [
    "## Identifiers\n",
    "\n",
    "* Identifier is the name given to entities like - class, functions, variables etc. in Python. It helps differentiating one entity from another.\n",
    "\n",
    "\n",
    "* Rules for writing identifiers:\n",
    "\n",
    "1. Identifiers can be a combination of letters in lowercase (a to z) or uppercase (A to Z) or digits (0 to 9) or an underscore (_).\n",
    "2. An identifier cannot start with a digit. 1variable is invalid, but variable1 is perfectly fine.\n",
    "3. Keywords cannot be used as identifiers. "
   ]
  },
  {
   "cell_type": "code",
   "execution_count": 4,
   "id": "76b80f87",
   "metadata": {},
   "outputs": [],
   "source": [
    "abc_12 = 12"
   ]
  },
  {
   "cell_type": "code",
   "execution_count": 5,
   "id": "2b17777e",
   "metadata": {},
   "outputs": [
    {
     "data": {
      "text/plain": [
       "12"
      ]
     },
     "execution_count": 5,
     "metadata": {},
     "output_type": "execute_result"
    }
   ],
   "source": [
    "abc_12"
   ]
  },
  {
   "cell_type": "code",
   "execution_count": 7,
   "id": "9a30f9bd",
   "metadata": {},
   "outputs": [
    {
     "ename": "SyntaxError",
     "evalue": "invalid decimal literal (Temp/ipykernel_12472/3481741164.py, line 1)",
     "output_type": "error",
     "traceback": [
      "\u001b[1;36m  File \u001b[1;32m\"C:\\Users\\Deepak\\AppData\\Local\\Temp/ipykernel_12472/3481741164.py\"\u001b[1;36m, line \u001b[1;32m1\u001b[0m\n\u001b[1;33m    12_abc\u001b[0m\n\u001b[1;37m      ^\u001b[0m\n\u001b[1;31mSyntaxError\u001b[0m\u001b[1;31m:\u001b[0m invalid decimal literal\n"
     ]
    }
   ],
   "source": [
    "# Invalid naming convention, cannot start with a digit\n",
    "12_abc"
   ]
  },
  {
   "cell_type": "code",
   "execution_count": 8,
   "id": "805146cb",
   "metadata": {},
   "outputs": [
    {
     "ename": "SyntaxError",
     "evalue": "invalid syntax (Temp/ipykernel_12472/453761193.py, line 2)",
     "output_type": "error",
     "traceback": [
      "\u001b[1;36m  File \u001b[1;32m\"C:\\Users\\Deepak\\AppData\\Local\\Temp/ipykernel_12472/453761193.py\"\u001b[1;36m, line \u001b[1;32m2\u001b[0m\n\u001b[1;33m    global = 1\u001b[0m\n\u001b[1;37m           ^\u001b[0m\n\u001b[1;31mSyntaxError\u001b[0m\u001b[1;31m:\u001b[0m invalid syntax\n"
     ]
    }
   ],
   "source": [
    "# Cannot use reserved keywords\n",
    "global = 1"
   ]
  },
  {
   "cell_type": "code",
   "execution_count": 9,
   "id": "974d06a8",
   "metadata": {},
   "outputs": [
    {
     "ename": "SyntaxError",
     "evalue": "invalid syntax (Temp/ipykernel_12472/177480929.py, line 2)",
     "output_type": "error",
     "traceback": [
      "\u001b[1;36m  File \u001b[1;32m\"C:\\Users\\Deepak\\AppData\\Local\\Temp/ipykernel_12472/177480929.py\"\u001b[1;36m, line \u001b[1;32m2\u001b[0m\n\u001b[1;33m    a@ = 10\u001b[0m\n\u001b[1;37m       ^\u001b[0m\n\u001b[1;31mSyntaxError\u001b[0m\u001b[1;31m:\u001b[0m invalid syntax\n"
     ]
    }
   ],
   "source": [
    "# Cannot use special characters\n",
    "a@ = 10"
   ]
  },
  {
   "cell_type": "code",
   "execution_count": null,
   "id": "472b333b",
   "metadata": {},
   "outputs": [],
   "source": []
  }
 ],
 "metadata": {
  "kernelspec": {
   "display_name": "Python 3 (ipykernel)",
   "language": "python",
   "name": "python3"
  },
  "language_info": {
   "codemirror_mode": {
    "name": "ipython",
    "version": 3
   },
   "file_extension": ".py",
   "mimetype": "text/x-python",
   "name": "python",
   "nbconvert_exporter": "python",
   "pygments_lexer": "ipython3",
   "version": "3.9.7"
  }
 },
 "nbformat": 4,
 "nbformat_minor": 5
}
