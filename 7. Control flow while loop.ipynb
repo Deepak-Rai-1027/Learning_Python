{
 "cells": [
  {
   "attachments": {
    "whileloop.jpg": {
     "image/jpeg": "[encoded data removed]"
    }
   },
   "cell_type": "markdown",
   "id": "708bfb1c",
   "metadata": {},
   "source": [
    "## Python while loop\n",
    "\n",
    "The while loop in Python is used to iterate over a block of code as long as the test expression is true. \n",
    "\n",
    "\n",
    "### Syntax:\n",
    "\n",
    "    while test_expression:\n",
    "        Body of while \n",
    "        \n",
    "        \n",
    "The body of the loop is entered only if the test_expression evaluates to True. \n",
    "\n",
    "After one iteration, the test expression is checked again. \n",
    "\n",
    "This process continues until the test expression evaluates to False.\n",
    "\n",
    "![whileloop.jpg](attachment:whileloop.jpg)"
   ]
  },
  {
   "cell_type": "code",
   "execution_count": 1,
   "id": "6235bf84",
   "metadata": {},
   "outputs": [
    {
     "name": "stdout",
     "output_type": "stream",
     "text": [
      "Product is: 12000000\n"
     ]
    }
   ],
   "source": [
    "# Find product of all numbers present in a list\n",
    "\n",
    "lst = [10, 20, 30, 40, 50]\n",
    "\n",
    "product = 1\n",
    "index = 0\n",
    "\n",
    "while index < len(lst):\n",
    "    product *= lst[index]\n",
    "    index += 1\n",
    "    \n",
    "print(\"Product is: {}\".format(product))"
   ]
  },
  {
   "cell_type": "markdown",
   "id": "61a2a4d3",
   "metadata": {},
   "source": [
    "### While loop with else\n",
    "\n",
    "Same as that of for loop, we can have an optional else block with while loop as well.\n",
    "\n",
    "The else part is executed if the condition in the while loop evaluates to False. The while loop can be terminated with a break statement.\n",
    "\n",
    "In such case, the else part is ignored. Hence, a while loop's else part runs if no break occurs and the condition is False. "
   ]
  },
  {
   "cell_type": "code",
   "execution_count": 2,
   "id": "2944e17f",
   "metadata": {},
   "outputs": [
    {
     "name": "stdout",
     "output_type": "stream",
     "text": [
      "1\n",
      "2\n",
      "3\n",
      "No item left in the list\n"
     ]
    }
   ],
   "source": [
    "numbers = [1, 2, 3]\n",
    "\n",
    "#Iterating over the list\n",
    "index = 0\n",
    "\n",
    "while index < len(numbers):\n",
    "    print(numbers[index])\n",
    "    index += 1\n",
    "else:\n",
    "    print(\"No item left in the list\")"
   ]
  },
  {
   "cell_type": "code",
   "execution_count": 3,
   "id": "85601b38",
   "metadata": {},
   "outputs": [
    {
     "name": "stdout",
     "output_type": "stream",
     "text": [
      "1\n",
      "2\n",
      "3\n",
      "4\n",
      "5\n",
      "No item left in the list\n"
     ]
    }
   ],
   "source": [
    "# Adding more elements in the list\n",
    "numbers = [1, 2, 3, 4, 5]\n",
    "\n",
    "#Iterating over the list\n",
    "index = 0\n",
    "\n",
    "while index < len(numbers):\n",
    "    print(numbers[index])\n",
    "    index += 1\n",
    "else:\n",
    "    print(\"No item left in the list\")"
   ]
  },
  {
   "cell_type": "markdown",
   "id": "3f2652ce",
   "metadata": {},
   "source": [
    "### Python program to check given number is Prime number or not"
   ]
  },
  {
   "cell_type": "code",
   "execution_count": 7,
   "id": "dd273fe1",
   "metadata": {},
   "outputs": [
    {
     "name": "stdout",
     "output_type": "stream",
     "text": [
      "Enter a number: 12\n",
      "12 is divisible by 2\n",
      "12 is divisible by 3\n",
      "12 is divisible by 4\n",
      "12 is divisible by 6\n",
      "12 is not a Prime number\n"
     ]
    }
   ],
   "source": [
    "num = int(input(\"Enter a number: \"))\n",
    "\n",
    "isDivisible = False;\n",
    "\n",
    "i = 2\n",
    "\n",
    "while i < num:\n",
    "    if num % i == 0:\n",
    "        isDivisible = True\n",
    "        print(\"{} is divisible by {}\".format(num, i))\n",
    "    i += 1\n",
    "\n",
    "if isDivisible == True:\n",
    "    print(\"{} is not a Prime number\".format(num))\n",
    "else:\n",
    "    print(\"{} is a Prime number\".format(num))"
   ]
  },
  {
   "cell_type": "code",
   "execution_count": null,
   "id": "5bb12c61",
   "metadata": {},
   "outputs": [],
   "source": []
  }
 ],
 "metadata": {
  "kernelspec": {
   "display_name": "Python 3 (ipykernel)",
   "language": "python",
   "name": "python3"
  },
  "language_info": {
   "codemirror_mode": {
    "name": "ipython",
    "version": 3
   },
   "file_extension": ".py",
   "mimetype": "text/x-python",
   "name": "python",
   "nbconvert_exporter": "python",
   "pygments_lexer": "ipython3",
   "version": "3.9.7"
  }
 },
 "nbformat": 4,
 "nbformat_minor": 5
}
