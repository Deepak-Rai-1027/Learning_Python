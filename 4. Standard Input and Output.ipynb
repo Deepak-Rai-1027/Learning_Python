{
 "cells": [
  {
   "cell_type": "markdown",
   "id": "50eb8e4d",
   "metadata": {},
   "source": [
    "## Python Input and Output"
   ]
  },
  {
   "cell_type": "markdown",
   "id": "7025675e",
   "metadata": {},
   "source": [
    "### Python Output\n",
    "\n",
    "We use the print() function to output data to the standard output device."
   ]
  },
  {
   "cell_type": "code",
   "execution_count": 1,
   "id": "565a369a",
   "metadata": {},
   "outputs": [
    {
     "name": "stdout",
     "output_type": "stream",
     "text": [
      "Hello World\n"
     ]
    }
   ],
   "source": [
    "print(\"Hello World\")"
   ]
  },
  {
   "cell_type": "code",
   "execution_count": 2,
   "id": "1bb2b09e",
   "metadata": {},
   "outputs": [
    {
     "name": "stdout",
     "output_type": "stream",
     "text": [
      "The value of a is 10\n"
     ]
    }
   ],
   "source": [
    "a = 10 \n",
    "\n",
    "print(\"The value of a is\", a)"
   ]
  },
  {
   "cell_type": "code",
   "execution_count": 3,
   "id": "db4839f8",
   "metadata": {},
   "outputs": [
    {
     "name": "stdout",
     "output_type": "stream",
     "text": [
      "The value of a is 10\n"
     ]
    }
   ],
   "source": [
    "# Concatenate values of variable 'a'\n",
    "print(\"The value of a is \" + str(a))"
   ]
  },
  {
   "cell_type": "markdown",
   "id": "303857c9",
   "metadata": {},
   "source": [
    "### Output Formatting"
   ]
  },
  {
   "cell_type": "code",
   "execution_count": 4,
   "id": "e1069027",
   "metadata": {},
   "outputs": [
    {
     "name": "stdout",
     "output_type": "stream",
     "text": [
      "The value of a is 10 and b is 20\n"
     ]
    }
   ],
   "source": [
    "# Default\n",
    "a = 10; b = 20 \n",
    "\n",
    "print(\"The value of a is {} and b is {}\".format(a,b))"
   ]
  },
  {
   "cell_type": "code",
   "execution_count": 5,
   "id": "543345bf",
   "metadata": {},
   "outputs": [
    {
     "name": "stdout",
     "output_type": "stream",
     "text": [
      "The value of b is 20 and a is 10\n"
     ]
    }
   ],
   "source": [
    "# Specify position of index \n",
    "a = 10; b = 20 \n",
    "\n",
    "print(\"The value of b is {1} and a is {0}\".format(a,b))"
   ]
  },
  {
   "cell_type": "code",
   "execution_count": 7,
   "id": "ea70872f",
   "metadata": {},
   "outputs": [
    {
     "name": "stdout",
     "output_type": "stream",
     "text": [
      "Hello Deepak, Good Morning\n"
     ]
    }
   ],
   "source": [
    "# We can use keyword arguments to format the string\n",
    "\n",
    "print(\"Hello {name}, {greeting}\".format(name=\"Deepak\", greeting=\"Good Morning\"))"
   ]
  },
  {
   "cell_type": "code",
   "execution_count": 9,
   "id": "45349830",
   "metadata": {},
   "outputs": [
    {
     "name": "stdout",
     "output_type": "stream",
     "text": [
      "The story of Bill, Manfred, and Georg\n"
     ]
    }
   ],
   "source": [
    "# We can combine positional arguments with keyword arguments\n",
    "\n",
    "print('The story of {0}, {1}, and {other}'.format('Bill', 'Manfred', other = 'Georg'))"
   ]
  },
  {
   "cell_type": "markdown",
   "id": "711faccc",
   "metadata": {},
   "source": [
    "### Python Input \n",
    "\n",
    "Take input from the user. In Python, we use the input() function."
   ]
  },
  {
   "cell_type": "code",
   "execution_count": 10,
   "id": "affc51ae",
   "metadata": {},
   "outputs": [
    {
     "name": "stdout",
     "output_type": "stream",
     "text": [
      "Enter a number: 123\n",
      "123\n"
     ]
    }
   ],
   "source": [
    "num = input(\"Enter a number: \")\n",
    "\n",
    "print(num)"
   ]
  },
  {
   "cell_type": "code",
   "execution_count": null,
   "id": "616022ac",
   "metadata": {},
   "outputs": [],
   "source": []
  }
 ],
 "metadata": {
  "kernelspec": {
   "display_name": "Python 3 (ipykernel)",
   "language": "python",
   "name": "python3"
  },
  "language_info": {
   "codemirror_mode": {
    "name": "ipython",
    "version": 3
   },
   "file_extension": ".py",
   "mimetype": "text/x-python",
   "name": "python",
   "nbconvert_exporter": "python",
   "pygments_lexer": "ipython3",
   "version": "3.9.7"
  }
 },
 "nbformat": 4,
 "nbformat_minor": 5
}
