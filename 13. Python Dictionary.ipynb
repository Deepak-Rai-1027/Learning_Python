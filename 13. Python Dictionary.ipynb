{
 "cells": [
  {
   "cell_type": "markdown",
   "id": "755920fd",
   "metadata": {},
   "source": [
    "## Dictionary\n",
    "\n",
    "* Python dictionary is an unordered collection of items. We cannot index it. \n",
    "* While other compound data types have only values as an element, a dictionary has a **key:value** pairs.\n",
    "* It's like a Hashtable"
   ]
  },
  {
   "cell_type": "markdown",
   "id": "d62760d9",
   "metadata": {},
   "source": [
    "### Dictionary Creation"
   ]
  },
  {
   "cell_type": "code",
   "execution_count": 6,
   "id": "622c772f",
   "metadata": {},
   "outputs": [],
   "source": [
    "# empty dictionary\n",
    "my_dict = {}"
   ]
  },
  {
   "cell_type": "code",
   "execution_count": 7,
   "id": "26043fe8",
   "metadata": {},
   "outputs": [
    {
     "name": "stdout",
     "output_type": "stream",
     "text": [
      "{1: 'abc', 2: 'xyz'}\n"
     ]
    }
   ],
   "source": [
    "# dictionary with integer keys\n",
    "my_dict = {1: 'abc', 2: 'xyz'}\n",
    "\n",
    "print(my_dict)"
   ]
  },
  {
   "cell_type": "code",
   "execution_count": 8,
   "id": "97877cf7",
   "metadata": {},
   "outputs": [
    {
     "name": "stdout",
     "output_type": "stream",
     "text": [
      "{'name': 'Deepak', 1: ['abc', 'xyz']}\n"
     ]
    }
   ],
   "source": [
    "# dictionary with mixed keys\n",
    "my_dict = {'name': 'Deepak', 1: ['abc', 'xyz']}\n",
    "\n",
    "print(my_dict)"
   ]
  },
  {
   "cell_type": "code",
   "execution_count": 9,
   "id": "8cc627f1",
   "metadata": {},
   "outputs": [],
   "source": [
    "# create an empty dictionary using the 'dict()' function\n",
    "my_dict = dict()"
   ]
  },
  {
   "cell_type": "code",
   "execution_count": 10,
   "id": "da8687ad",
   "metadata": {},
   "outputs": [
    {
     "name": "stdout",
     "output_type": "stream",
     "text": [
      "{1: 'abc', 2: 'xyz'}\n"
     ]
    }
   ],
   "source": [
    "# create a dictionary with list of tuples\n",
    "my_dict = dict([(1, 'abc'), (2, 'xyz')])\n",
    "\n",
    "print(my_dict)"
   ]
  },
  {
   "cell_type": "markdown",
   "id": "6e890ab5",
   "metadata": {},
   "source": [
    "### Access Elements in Dictionary"
   ]
  },
  {
   "cell_type": "code",
   "execution_count": 11,
   "id": "443bebb0",
   "metadata": {},
   "outputs": [
    {
     "name": "stdout",
     "output_type": "stream",
     "text": [
      "Deepak\n"
     ]
    }
   ],
   "source": [
    "my_dict = {'name': 'Deepak', 'age': 27, 'address': 'Delhi'}\n",
    "\n",
    "#get name\n",
    "print(my_dict['name'])"
   ]
  },
  {
   "cell_type": "code",
   "execution_count": 12,
   "id": "abbfb127",
   "metadata": {},
   "outputs": [
    {
     "ename": "KeyError",
     "evalue": "'degree'",
     "output_type": "error",
     "traceback": [
      "\u001b[1;31m---------------------------------------------------------------------------\u001b[0m",
      "\u001b[1;31mKeyError\u001b[0m                                  Traceback (most recent call last)",
      "\u001b[1;32m~\\AppData\\Local\\Temp/ipykernel_6660/3852393106.py\u001b[0m in \u001b[0;36m<module>\u001b[1;34m\u001b[0m\n\u001b[0;32m      1\u001b[0m \u001b[1;31m# if key is not present it gives KeyError\u001b[0m\u001b[1;33m\u001b[0m\u001b[1;33m\u001b[0m\u001b[0m\n\u001b[1;32m----> 2\u001b[1;33m \u001b[0mprint\u001b[0m\u001b[1;33m(\u001b[0m\u001b[0mmy_dict\u001b[0m\u001b[1;33m[\u001b[0m\u001b[1;34m'degree'\u001b[0m\u001b[1;33m]\u001b[0m\u001b[1;33m)\u001b[0m\u001b[1;33m\u001b[0m\u001b[1;33m\u001b[0m\u001b[0m\n\u001b[0m",
      "\u001b[1;31mKeyError\u001b[0m: 'degree'"
     ]
    }
   ],
   "source": [
    "# if key is not present it gives KeyError\n",
    "print(my_dict['degree'])"
   ]
  },
  {
   "cell_type": "code",
   "execution_count": 13,
   "id": "a4ea490d",
   "metadata": {},
   "outputs": [
    {
     "name": "stdout",
     "output_type": "stream",
     "text": [
      "Delhi\n"
     ]
    }
   ],
   "source": [
    "# another way of accessing key\n",
    "print(my_dict.get('address'))"
   ]
  },
  {
   "cell_type": "code",
   "execution_count": 14,
   "id": "c2e84c8e",
   "metadata": {},
   "outputs": [
    {
     "name": "stdout",
     "output_type": "stream",
     "text": [
      "None\n"
     ]
    }
   ],
   "source": [
    "# if key is not present it will return None using get method\n",
    "print(my_dict.get('degree'))"
   ]
  },
  {
   "cell_type": "markdown",
   "id": "f62c0ac8",
   "metadata": {},
   "source": [
    "### Add or Modify Elements in Dictionary"
   ]
  },
  {
   "cell_type": "code",
   "execution_count": 15,
   "id": "601db2d0",
   "metadata": {},
   "outputs": [
    {
     "name": "stdout",
     "output_type": "stream",
     "text": [
      "{'name': 'Ajay', 'age': 27, 'address': 'Delhi'}\n"
     ]
    }
   ],
   "source": [
    "my_dict = {'name': 'Deepak', 'age': 27, 'address': 'Delhi'}\n",
    "\n",
    "# update name\n",
    "my_dict['name'] = 'Ajay'\n",
    "\n",
    "print(my_dict)"
   ]
  },
  {
   "cell_type": "code",
   "execution_count": 16,
   "id": "c5867dd6",
   "metadata": {},
   "outputs": [
    {
     "name": "stdout",
     "output_type": "stream",
     "text": [
      "{'name': 'Ajay', 'age': 27, 'address': 'Delhi', 'degree': 'MBA'}\n"
     ]
    }
   ],
   "source": [
    "# add a new key\n",
    "my_dict['degree'] = 'MBA'\n",
    "\n",
    "print(my_dict)"
   ]
  },
  {
   "cell_type": "markdown",
   "id": "54396b10",
   "metadata": {},
   "source": [
    "### Delete or Remove Elements in Dictionary"
   ]
  },
  {
   "cell_type": "code",
   "execution_count": 17,
   "id": "81afdcd5",
   "metadata": {},
   "outputs": [
    {
     "name": "stdout",
     "output_type": "stream",
     "text": [
      "27\n"
     ]
    }
   ],
   "source": [
    "my_dict = {'name': 'Deepak', 'age': 27, 'address': 'Delhi'}\n",
    "\n",
    "# remove a particular item\n",
    "print(my_dict.pop('age'))"
   ]
  },
  {
   "cell_type": "code",
   "execution_count": 18,
   "id": "a48758cf",
   "metadata": {},
   "outputs": [
    {
     "name": "stdout",
     "output_type": "stream",
     "text": [
      "{'name': 'Deepak', 'address': 'Delhi'}\n"
     ]
    }
   ],
   "source": [
    "print(my_dict)"
   ]
  },
  {
   "cell_type": "code",
   "execution_count": 21,
   "id": "5d1e0798",
   "metadata": {},
   "outputs": [
    {
     "name": "stdout",
     "output_type": "stream",
     "text": [
      "{'name': 'Deepak', 'age': 27}\n"
     ]
    }
   ],
   "source": [
    "my_dict = {'name': 'Deepak', 'age': 27, 'address': 'Delhi'}\n",
    "\n",
    "# remove an arbitrary key\n",
    "my_dict.popitem()\n",
    "\n",
    "print(my_dict)"
   ]
  },
  {
   "cell_type": "code",
   "execution_count": 22,
   "id": "86c9f4ab",
   "metadata": {},
   "outputs": [
    {
     "name": "stdout",
     "output_type": "stream",
     "text": [
      "{3: 9, 4: 16, 5: 25}\n"
     ]
    }
   ],
   "source": [
    "squares = {2: 4, 3: 9, 4: 16, 5: 25}\n",
    "\n",
    "# delete a particular key\n",
    "del squares[2]\n",
    "\n",
    "print(squares)"
   ]
  },
  {
   "cell_type": "code",
   "execution_count": 23,
   "id": "1ecf7173",
   "metadata": {},
   "outputs": [
    {
     "name": "stdout",
     "output_type": "stream",
     "text": [
      "{}\n"
     ]
    }
   ],
   "source": [
    "# remove all elements \n",
    "squares.clear()\n",
    "\n",
    "print(squares)"
   ]
  },
  {
   "cell_type": "code",
   "execution_count": 24,
   "id": "101c2992",
   "metadata": {},
   "outputs": [
    {
     "ename": "NameError",
     "evalue": "name 'squares' is not defined",
     "output_type": "error",
     "traceback": [
      "\u001b[1;31m---------------------------------------------------------------------------\u001b[0m",
      "\u001b[1;31mNameError\u001b[0m                                 Traceback (most recent call last)",
      "\u001b[1;32m~\\AppData\\Local\\Temp/ipykernel_6660/2548972416.py\u001b[0m in \u001b[0;36m<module>\u001b[1;34m\u001b[0m\n\u001b[0;32m      4\u001b[0m \u001b[1;32mdel\u001b[0m \u001b[0msquares\u001b[0m\u001b[1;33m\u001b[0m\u001b[1;33m\u001b[0m\u001b[0m\n\u001b[0;32m      5\u001b[0m \u001b[1;33m\u001b[0m\u001b[0m\n\u001b[1;32m----> 6\u001b[1;33m \u001b[0mprint\u001b[0m\u001b[1;33m(\u001b[0m\u001b[0msquares\u001b[0m\u001b[1;33m)\u001b[0m\u001b[1;33m\u001b[0m\u001b[1;33m\u001b[0m\u001b[0m\n\u001b[0m",
      "\u001b[1;31mNameError\u001b[0m: name 'squares' is not defined"
     ]
    }
   ],
   "source": [
    "squares = {2: 4, 3: 9, 4: 16, 5: 25}\n",
    "\n",
    "# delete dictionary itself\n",
    "del squares\n",
    "\n",
    "# it will return a NameError because dictionary is already deleted\n",
    "print(squares)"
   ]
  },
  {
   "cell_type": "markdown",
   "id": "7fab3531",
   "metadata": {},
   "source": [
    "### Dictionary Methods"
   ]
  },
  {
   "cell_type": "code",
   "execution_count": 25,
   "id": "ec68b7a0",
   "metadata": {},
   "outputs": [
    {
     "name": "stdout",
     "output_type": "stream",
     "text": [
      "{2: 4, 3: 9, 4: 16, 5: 25}\n"
     ]
    }
   ],
   "source": [
    "squares = {2: 4, 3: 9, 4: 16, 5: 25}\n",
    "\n",
    "# create a copy of the dictionary\n",
    "my_dict = squares.copy()\n",
    "\n",
    "print(my_dict)"
   ]
  },
  {
   "cell_type": "code",
   "execution_count": 26,
   "id": "282b66ff",
   "metadata": {},
   "outputs": [
    {
     "name": "stdout",
     "output_type": "stream",
     "text": [
      "{'Math': 0, 'English': 0, 'Hindi': 0}\n"
     ]
    }
   ],
   "source": [
    "# returns a new dictionary with keys from 'seq' and values from 'v'\n",
    "\n",
    "# syntax - fromkeys[seq[, v]]\n",
    "subjects = {}.fromkeys(['Math', 'English', 'Hindi'], 0)\n",
    "\n",
    "print(subjects)"
   ]
  },
  {
   "cell_type": "code",
   "execution_count": 28,
   "id": "608cd9c5",
   "metadata": {},
   "outputs": [
    {
     "name": "stdout",
     "output_type": "stream",
     "text": [
      "dict_items([(2, 4), (3, 9), (4, 16), (5, 25)])\n"
     ]
    }
   ],
   "source": [
    "# returns a new view of the dictionary items (key, value)\n",
    "squares = {2:4, 3:9, 4:16, 5:25}\n",
    "\n",
    "print(squares.items())"
   ]
  },
  {
   "cell_type": "code",
   "execution_count": 30,
   "id": "68b0cae2",
   "metadata": {},
   "outputs": [
    {
     "name": "stdout",
     "output_type": "stream",
     "text": [
      "dict_keys([2, 3, 4, 5])\n"
     ]
    }
   ],
   "source": [
    "# returns a new view of the dictionary keys\n",
    "print(squares.keys())"
   ]
  },
  {
   "cell_type": "code",
   "execution_count": 31,
   "id": "d27136e8",
   "metadata": {},
   "outputs": [
    {
     "name": "stdout",
     "output_type": "stream",
     "text": [
      "dict_values([4, 9, 16, 25])\n"
     ]
    }
   ],
   "source": [
    "# returns a new view of the dictionary values\n",
    "print(squares.values())"
   ]
  },
  {
   "cell_type": "code",
   "execution_count": 32,
   "id": "f012d69a",
   "metadata": {},
   "outputs": [
    {
     "name": "stdout",
     "output_type": "stream",
     "text": [
      "['__class__', '__class_getitem__', '__contains__', '__delattr__', '__delitem__', '__dir__', '__doc__', '__eq__', '__format__', '__ge__', '__getattribute__', '__getitem__', '__gt__', '__hash__', '__init__', '__init_subclass__', '__ior__', '__iter__', '__le__', '__len__', '__lt__', '__ne__', '__new__', '__or__', '__reduce__', '__reduce_ex__', '__repr__', '__reversed__', '__ror__', '__setattr__', '__setitem__', '__sizeof__', '__str__', '__subclasshook__', 'clear', 'copy', 'fromkeys', 'get', 'items', 'keys', 'pop', 'popitem', 'setdefault', 'update', 'values']\n"
     ]
    }
   ],
   "source": [
    "# get the list of all available methods and attributes of dictionary\n",
    "\n",
    "d = {}\n",
    "\n",
    "print(dir(d))"
   ]
  },
  {
   "cell_type": "markdown",
   "id": "e18464fb",
   "metadata": {},
   "source": [
    "### Dictionary Comprehension"
   ]
  },
  {
   "cell_type": "code",
   "execution_count": 33,
   "id": "b2180f4c",
   "metadata": {},
   "outputs": [
    {
     "name": "stdout",
     "output_type": "stream",
     "text": [
      "('a', 1)\n",
      "('b', 2)\n",
      "('c', 3)\n"
     ]
    }
   ],
   "source": [
    "d = {'a': 1, 'b': 2, 'c': 3}\n",
    "\n",
    "for pair in d.items():\n",
    "    print(pair)"
   ]
  },
  {
   "cell_type": "code",
   "execution_count": 34,
   "id": "2b8a07be",
   "metadata": {},
   "outputs": [
    {
     "name": "stdout",
     "output_type": "stream",
     "text": [
      "{'c': 3, 'd': 4}\n"
     ]
    }
   ],
   "source": [
    "# creating a new dictionary with only pairs where the value is greater than 2\n",
    "d = {'a': 1, 'b': 2, 'c': 3, 'd': 4}\n",
    "\n",
    "new_dict = {k:v for k, v in d.items() if v > 2}\n",
    "\n",
    "print(new_dict)"
   ]
  },
  {
   "cell_type": "code",
   "execution_count": 35,
   "id": "744172bd",
   "metadata": {},
   "outputs": [
    {
     "name": "stdout",
     "output_type": "stream",
     "text": [
      "{'cc': 6, 'dc': 8, 'ec': 10}\n"
     ]
    }
   ],
   "source": [
    "# we can also perform operations on the key value pairs\n",
    "d = {'a': 1, 'b': 2, 'c': 3, 'd': 4, 'e': 5}\n",
    "\n",
    "d = {k + 'c': v * 2 for k, v in d.items() if v > 2}\n",
    "\n",
    "print(d)"
   ]
  },
  {
   "cell_type": "code",
   "execution_count": null,
   "id": "d5c6f5b3",
   "metadata": {},
   "outputs": [],
   "source": []
  }
 ],
 "metadata": {
  "kernelspec": {
   "display_name": "Python 3 (ipykernel)",
   "language": "python",
   "name": "python3"
  },
  "language_info": {
   "codemirror_mode": {
    "name": "ipython",
    "version": 3
   },
   "file_extension": ".py",
   "mimetype": "text/x-python",
   "name": "python",
   "nbconvert_exporter": "python",
   "pygments_lexer": "ipython3",
   "version": "3.9.7"
  }
 },
 "nbformat": 4,
 "nbformat_minor": 5
}
