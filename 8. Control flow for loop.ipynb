{
 "cells": [
  {
   "attachments": {
    "forLoop.jpg": {
     "image/jpeg": "[encoded data removed]"
    }
   },
   "cell_type": "markdown",
   "id": "dc05a22c",
   "metadata": {},
   "source": [
    "## Python for loop\n",
    "\n",
    "The for loop in Python is used to iterate over a sequence (list, tuple, string) or other iterable objects.\n",
    "\n",
    "Iterating over a sequence is called traversal. \n",
    "\n",
    "\n",
    "### Syntax: \n",
    "    \n",
    "    for element in sequence:\n",
    "        Body of for\n",
    "\n",
    "\n",
    "Here, element is the variable that takes the value of the item inside the sequence on each iteration. \n",
    "\n",
    "Loop continues until we reach the last item in the sequence. \n",
    "\n",
    "![forLoop.jpg](attachment:forLoop.jpg)"
   ]
  },
  {
   "cell_type": "code",
   "execution_count": 1,
   "id": "3bbd963a",
   "metadata": {},
   "outputs": [
    {
     "name": "stdout",
     "output_type": "stream",
     "text": [
      "Product is: 12000000\n"
     ]
    }
   ],
   "source": [
    "# Find product of all numbers present in a list\n",
    "\n",
    "lst = [10, 20, 30, 40, 50]\n",
    "\n",
    "product = 1\n",
    "\n",
    "# iterating over the list\n",
    "for i in lst:\n",
    "    product *= i\n",
    "    \n",
    "print(\"Product is: {}\".format(product))"
   ]
  },
  {
   "cell_type": "markdown",
   "id": "393f7289",
   "metadata": {},
   "source": [
    "### range() function \n",
    "\n",
    "We can generate a sequence of numbers using range() function. range(10) will generate numbers from 0 to 9 (10 numbers).\n",
    "\n",
    "We can also define the start, stop and step size as range(start, stop, step size). Step size defaults to 1 if not provided. \n",
    "\n",
    "This function does not store all the values in memory, it would be inefficient. So it remembers the start, stop, step size and generates the next number on the go. "
   ]
  },
  {
   "cell_type": "code",
   "execution_count": 2,
   "id": "ae9478e0",
   "metadata": {},
   "outputs": [
    {
     "name": "stdout",
     "output_type": "stream",
     "text": [
      "0\n",
      "1\n",
      "2\n",
      "3\n",
      "4\n",
      "5\n",
      "6\n",
      "7\n",
      "8\n",
      "9\n"
     ]
    }
   ],
   "source": [
    "# print range of 10\n",
    "\n",
    "for i in range(10):\n",
    "    print(i)"
   ]
  },
  {
   "cell_type": "code",
   "execution_count": 5,
   "id": "ad856388",
   "metadata": {},
   "outputs": [
    {
     "name": "stdout",
     "output_type": "stream",
     "text": [
      "2\n",
      "4\n",
      "6\n",
      "8\n",
      "10\n",
      "12\n",
      "14\n",
      "16\n",
      "18\n",
      "20\n"
     ]
    }
   ],
   "source": [
    "# print the table of 2\n",
    "\n",
    "for i in range(2, 22, 2):\n",
    "    print(i)"
   ]
  },
  {
   "cell_type": "code",
   "execution_count": 6,
   "id": "95c8858d",
   "metadata": {},
   "outputs": [
    {
     "name": "stdout",
     "output_type": "stream",
     "text": [
      "1\n",
      "3\n",
      "5\n",
      "7\n",
      "9\n",
      "11\n",
      "13\n",
      "15\n",
      "17\n",
      "19\n"
     ]
    }
   ],
   "source": [
    "# print range of numbers from 1 to 20 with step size of 2\n",
    "\n",
    "for i in range(1, 20, 2):\n",
    "    print(i)"
   ]
  },
  {
   "cell_type": "code",
   "execution_count": 7,
   "id": "84b9632e",
   "metadata": {},
   "outputs": [
    {
     "name": "stdout",
     "output_type": "stream",
     "text": [
      "Deepak\n",
      "Rahul\n",
      "Priya\n",
      "Ajay\n",
      "Sunny\n"
     ]
    }
   ],
   "source": [
    "# iterate over the list using index\n",
    "\n",
    "lst = [\"Deepak\", \"Rahul\", \"Priya\", \"Ajay\", \"Sunny\"]\n",
    "\n",
    "for index in range(len(lst)):\n",
    "    print(lst[index])"
   ]
  },
  {
   "cell_type": "code",
   "execution_count": 8,
   "id": "4201a645",
   "metadata": {},
   "outputs": [
    {
     "name": "stdout",
     "output_type": "stream",
     "text": [
      "Deepak\n",
      "Rahul\n",
      "Priya\n",
      "Ajay\n",
      "Sunny\n"
     ]
    }
   ],
   "source": [
    "# another way of doing the same thing\n",
    "\n",
    "for i in lst:\n",
    "    print(i)"
   ]
  },
  {
   "cell_type": "markdown",
   "id": "50911b2b",
   "metadata": {},
   "source": [
    "### for loop with else\n",
    "\n",
    "A for loop can have an optional else block as well. The else part is executed if the items in the sequence used in for loop exhausts. \n",
    "\n",
    "break statement can be used to stop a for loop. In such case, the else part is ignored. \n",
    "\n",
    "Hence, a for loop's else part runs if no break occurs. "
   ]
  },
  {
   "cell_type": "code",
   "execution_count": 9,
   "id": "06868fe0",
   "metadata": {},
   "outputs": [
    {
     "name": "stdout",
     "output_type": "stream",
     "text": [
      "1\n",
      "2\n",
      "3\n",
      "No item left in the list\n"
     ]
    }
   ],
   "source": [
    "# iterating over the list\n",
    "numbers = [1, 2, 3]\n",
    "\n",
    "for item in numbers:\n",
    "    print(item)\n",
    "else:\n",
    "    print(\"No item left in the list\")"
   ]
  },
  {
   "cell_type": "code",
   "execution_count": 10,
   "id": "14c58447",
   "metadata": {},
   "outputs": [
    {
     "name": "stdout",
     "output_type": "stream",
     "text": [
      "1\n",
      "2\n"
     ]
    }
   ],
   "source": [
    "for item in numbers:\n",
    "    print(item)\n",
    "    if item % 2 == 0:\n",
    "        break\n",
    "else:\n",
    "    print(\"No item left in the list\")"
   ]
  },
  {
   "cell_type": "markdown",
   "id": "1e4d05e1",
   "metadata": {},
   "source": [
    "### Python program to display all Prime numbers within an interval"
   ]
  },
  {
   "cell_type": "code",
   "execution_count": 12,
   "id": "cc62d160",
   "metadata": {},
   "outputs": [
    {
     "name": "stdout",
     "output_type": "stream",
     "text": [
      "Prime numbers between 10 and 50 are :\n",
      "11\n",
      "13\n",
      "17\n",
      "19\n",
      "23\n",
      "29\n",
      "31\n",
      "37\n",
      "41\n",
      "43\n",
      "47\n"
     ]
    }
   ],
   "source": [
    "index1 = 10\n",
    "index2 = 50\n",
    "\n",
    "print(\"Prime numbers between {0} and {1} are :\".format(index1, index2))\n",
    "\n",
    "for num in range(index1, index2+1):\n",
    "    if num > 1:\n",
    "        isDivisible = False\n",
    "        for index in range(2, num):\n",
    "            if num % index == 0:\n",
    "                isDivisible = True\n",
    "        if not isDivisible == True:\n",
    "            print(num)"
   ]
  },
  {
   "cell_type": "code",
   "execution_count": null,
   "id": "11728459",
   "metadata": {},
   "outputs": [],
   "source": []
  }
 ],
 "metadata": {
  "kernelspec": {
   "display_name": "Python 3 (ipykernel)",
   "language": "python",
   "name": "python3"
  },
  "language_info": {
   "codemirror_mode": {
    "name": "ipython",
    "version": 3
   },
   "file_extension": ".py",
   "mimetype": "text/x-python",
   "name": "python",
   "nbconvert_exporter": "python",
   "pygments_lexer": "ipython3",
   "version": "3.9.7"
  }
 },
 "nbformat": 4,
 "nbformat_minor": 5
}
