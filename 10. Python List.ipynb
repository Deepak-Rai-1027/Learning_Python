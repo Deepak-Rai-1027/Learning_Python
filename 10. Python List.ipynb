{
 "cells": [
  {
   "cell_type": "markdown",
   "id": "d17453e3",
   "metadata": {},
   "source": [
    "## List\n",
    "\n",
    "\n",
    "**Data Structure:**\n",
    "\n",
    "A data structure is a collection of data elements(such as numbers or characters - or even other data structures) that is structured in some way, for example, by numbering the elements. The most basic data structure in Python is the \"sequence\".\n",
    "\n",
    "* List is one of the Sequence Data Structure\n",
    "* Lists are collection of items (Strings, Integers or even other lists)\n",
    "* Lists are enclosed in [ ]\n",
    "* Each item in the list has an assigned index value. \n",
    "* Each item in a list is separated by a comma\n",
    "* Lists are mutable, which means they can be changed. \n"
   ]
  },
  {
   "cell_type": "markdown",
   "id": "e2a3bf6d",
   "metadata": {},
   "source": [
    "### List Creation"
   ]
  },
  {
   "cell_type": "code",
   "execution_count": 2,
   "id": "fbcf2267",
   "metadata": {},
   "outputs": [],
   "source": [
    "# An empty list\n",
    "emptyList = []\n",
    "\n",
    "# list of strings\n",
    "lst = ['one', 'two', 'three', 'four']\n",
    "\n",
    "# list of integers\n",
    "lst2 = [1, 2, 3, 4]\n",
    "\n",
    "# list of lists\n",
    "lst3 = [[1,2], [3,4]]\n",
    "\n",
    "# list of different datatypes\n",
    "lst4 = [1, 'Deepak', 24, 1.24]"
   ]
  },
  {
   "cell_type": "code",
   "execution_count": 7,
   "id": "00da2e7b",
   "metadata": {},
   "outputs": [
    {
     "name": "stdout",
     "output_type": "stream",
     "text": [
      "['one', 'two', 'three', 'four']\n"
     ]
    }
   ],
   "source": [
    "print(lst)"
   ]
  },
  {
   "cell_type": "markdown",
   "id": "ed7353aa",
   "metadata": {},
   "source": [
    "### List Length"
   ]
  },
  {
   "cell_type": "code",
   "execution_count": 5,
   "id": "585a1731",
   "metadata": {},
   "outputs": [
    {
     "name": "stdout",
     "output_type": "stream",
     "text": [
      "4\n"
     ]
    }
   ],
   "source": [
    "# list of strings\n",
    "lst = ['one', 'two', 'three', 'four']\n",
    "\n",
    "# find length of a list\n",
    "print(len(lst))"
   ]
  },
  {
   "cell_type": "markdown",
   "id": "9961e466",
   "metadata": {},
   "source": [
    "### List Append"
   ]
  },
  {
   "cell_type": "code",
   "execution_count": 8,
   "id": "d86458c5",
   "metadata": {},
   "outputs": [],
   "source": [
    "# list of strings\n",
    "lst = ['one', 'two', 'three', 'four']\n",
    "\n",
    "# append will add the item at the end\n",
    "lst.append('five')"
   ]
  },
  {
   "cell_type": "code",
   "execution_count": 9,
   "id": "ce1b2cdf",
   "metadata": {},
   "outputs": [
    {
     "name": "stdout",
     "output_type": "stream",
     "text": [
      "['one', 'two', 'three', 'four', 'five']\n"
     ]
    }
   ],
   "source": [
    "print(lst)"
   ]
  },
  {
   "cell_type": "markdown",
   "id": "d714767e",
   "metadata": {},
   "source": [
    "### List Insert"
   ]
  },
  {
   "cell_type": "code",
   "execution_count": 10,
   "id": "87764d20",
   "metadata": {},
   "outputs": [],
   "source": [
    "# syntax: lst.insert(x, y)\n",
    "lst = ['one', 'two', 'four']\n",
    "\n",
    "# insert will add element y at location x\n",
    "lst.insert(2, 'three')"
   ]
  },
  {
   "cell_type": "code",
   "execution_count": 11,
   "id": "4b543b40",
   "metadata": {},
   "outputs": [
    {
     "name": "stdout",
     "output_type": "stream",
     "text": [
      "['one', 'two', 'three', 'four']\n"
     ]
    }
   ],
   "source": [
    "print(lst)"
   ]
  },
  {
   "cell_type": "markdown",
   "id": "2b7cc175",
   "metadata": {},
   "source": [
    "### List Remove"
   ]
  },
  {
   "cell_type": "code",
   "execution_count": 12,
   "id": "69a8f424",
   "metadata": {},
   "outputs": [],
   "source": [
    "# syntax: lst.remove(x)\n",
    "\n",
    "lst = ['one', 'two', 'three', 'four', 'two']\n",
    "\n",
    "# it will remove the first occurence of 'two' in a given list\n",
    "lst.remove('two')"
   ]
  },
  {
   "cell_type": "code",
   "execution_count": 13,
   "id": "820914ea",
   "metadata": {},
   "outputs": [
    {
     "name": "stdout",
     "output_type": "stream",
     "text": [
      "['one', 'three', 'four', 'two']\n"
     ]
    }
   ],
   "source": [
    "print(lst)"
   ]
  },
  {
   "cell_type": "markdown",
   "id": "7f282291",
   "metadata": {},
   "source": [
    "### List Append & Extend"
   ]
  },
  {
   "cell_type": "code",
   "execution_count": 14,
   "id": "13ea5f7d",
   "metadata": {},
   "outputs": [],
   "source": [
    "lst1 = ['one', 'two', 'three', 'four']\n",
    "\n",
    "lst2 = ['five', 'six']\n",
    "\n",
    "# append\n",
    "lst1.append(lst2)"
   ]
  },
  {
   "cell_type": "code",
   "execution_count": 15,
   "id": "b524e0f4",
   "metadata": {},
   "outputs": [
    {
     "name": "stdout",
     "output_type": "stream",
     "text": [
      "['one', 'two', 'three', 'four', ['five', 'six']]\n"
     ]
    }
   ],
   "source": [
    "print(lst1)"
   ]
  },
  {
   "cell_type": "code",
   "execution_count": 16,
   "id": "cb4b1a39",
   "metadata": {},
   "outputs": [],
   "source": [
    "lst1 = ['one', 'two', 'three', 'four']\n",
    "\n",
    "lst2 = ['five', 'six']\n",
    "\n",
    "# extend will join the list1 with list2\n",
    "lst1.extend(lst2)"
   ]
  },
  {
   "cell_type": "code",
   "execution_count": 17,
   "id": "904a0094",
   "metadata": {},
   "outputs": [
    {
     "name": "stdout",
     "output_type": "stream",
     "text": [
      "['one', 'two', 'three', 'four', 'five', 'six']\n"
     ]
    }
   ],
   "source": [
    "print(lst1)"
   ]
  },
  {
   "cell_type": "markdown",
   "id": "c8c6bb91",
   "metadata": {},
   "source": [
    "### List Delete"
   ]
  },
  {
   "cell_type": "code",
   "execution_count": 20,
   "id": "a4a83fb0",
   "metadata": {},
   "outputs": [],
   "source": [
    "# use 'del' to remove item based on index position\n",
    "\n",
    "lst = ['one', 'two', 'three', 'four','five']\n",
    "\n",
    "del lst[1]"
   ]
  },
  {
   "cell_type": "code",
   "execution_count": 19,
   "id": "06ecfba7",
   "metadata": {},
   "outputs": [
    {
     "name": "stdout",
     "output_type": "stream",
     "text": [
      "['one', 'three', 'four', 'five']\n"
     ]
    }
   ],
   "source": [
    "print(lst)"
   ]
  },
  {
   "cell_type": "code",
   "execution_count": 21,
   "id": "53f91113",
   "metadata": {},
   "outputs": [
    {
     "name": "stdout",
     "output_type": "stream",
     "text": [
      "two\n",
      "['one', 'three', 'four', 'five']\n"
     ]
    }
   ],
   "source": [
    "# or we can use 'pop()' method\n",
    "a = lst.pop(1)\n",
    "print(a)\n",
    "\n",
    "print(lst)"
   ]
  },
  {
   "cell_type": "code",
   "execution_count": 22,
   "id": "0ac4325f",
   "metadata": {},
   "outputs": [
    {
     "name": "stdout",
     "output_type": "stream",
     "text": [
      "['one', 'three', 'four']\n"
     ]
    }
   ],
   "source": [
    "# we can also use 'remove' method\n",
    "lst = ['one', 'two', 'three', 'four']\n",
    "\n",
    "# remove an item from list\n",
    "lst.remove('two')\n",
    "\n",
    "print(lst)"
   ]
  },
  {
   "cell_type": "markdown",
   "id": "2832b9af",
   "metadata": {},
   "source": [
    "### List related keywords in Python"
   ]
  },
  {
   "cell_type": "code",
   "execution_count": 23,
   "id": "5f0a5aa6",
   "metadata": {},
   "outputs": [
    {
     "name": "stdout",
     "output_type": "stream",
     "text": [
      "AI\n",
      "ML\n"
     ]
    }
   ],
   "source": [
    "lst = ['one', 'two', 'three', 'four']\n",
    "\n",
    "# keyword 'in' is used to test if an item is present in a list\n",
    "if 'two' in lst:\n",
    "    print('AI')\n",
    "    \n",
    "# keyword 'not' can be combined with 'in'\n",
    "if 'six' not in lst:\n",
    "    print('ML')"
   ]
  },
  {
   "cell_type": "markdown",
   "id": "69c1f3f9",
   "metadata": {},
   "source": [
    "### List Reverse"
   ]
  },
  {
   "cell_type": "code",
   "execution_count": 24,
   "id": "a4481e86",
   "metadata": {},
   "outputs": [
    {
     "name": "stdout",
     "output_type": "stream",
     "text": [
      "['four', 'three', 'two', 'one']\n"
     ]
    }
   ],
   "source": [
    "# 'reverse' method reverses the entire list\n",
    "\n",
    "lst = ['one', 'two', 'three', 'four']\n",
    "\n",
    "lst.reverse()\n",
    "\n",
    "print(lst)"
   ]
  },
  {
   "cell_type": "markdown",
   "id": "6feff3fe",
   "metadata": {},
   "source": [
    "### List Sorting\n",
    "\n",
    "The easiest way to sort a list is with the sorted(list) function. \n",
    "\n",
    "That takes a list and returns a new list with those elements in sorted order. \n",
    "\n",
    "The original list is not changed. \n",
    "\n",
    "The sorted() optional argument reverse=True, e.g. sorted(list, reverse=True), makes it sort backward. "
   ]
  },
  {
   "cell_type": "code",
   "execution_count": 26,
   "id": "b8624b72",
   "metadata": {},
   "outputs": [
    {
     "name": "stdout",
     "output_type": "stream",
     "text": [
      "Sorted list : [1, 2, 3, 6, 8]\n",
      "\n",
      "Original list: [3, 1, 6, 2, 8]\n"
     ]
    }
   ],
   "source": [
    "# create a list with numbers\n",
    "numbers = [3, 1, 6, 2, 8]\n",
    "\n",
    "sorted_lst = sorted(numbers)  #ascending order\n",
    "\n",
    "print(\"Sorted list :\", sorted_lst)\n",
    "\n",
    "# original list remains unchanged\n",
    "print(\"\\nOriginal list:\", numbers)"
   ]
  },
  {
   "cell_type": "code",
   "execution_count": 27,
   "id": "45bf9abf",
   "metadata": {},
   "outputs": [
    {
     "name": "stdout",
     "output_type": "stream",
     "text": [
      "Reverse sorted list : [8, 6, 3, 2, 1]\n",
      "\n",
      "Original list: [3, 1, 6, 2, 8]\n"
     ]
    }
   ],
   "source": [
    "# sort a list in reverse(descending) order\n",
    "print(\"Reverse sorted list :\", sorted(numbers, reverse=True))\n",
    "\n",
    "# original list remains unchanged\n",
    "print(\"\\nOriginal list:\", numbers)"
   ]
  },
  {
   "cell_type": "code",
   "execution_count": 28,
   "id": "23af2c61",
   "metadata": {},
   "outputs": [
    {
     "name": "stdout",
     "output_type": "stream",
     "text": [
      "Sorted list:  [1, 4.2, 5, 5, 20]\n"
     ]
    }
   ],
   "source": [
    "lst = [1, 20, 5, 5, 4.2]\n",
    "\n",
    "# sort the original list\n",
    "lst.sort()\n",
    "\n",
    "print(\"Sorted list: \", lst)"
   ]
  },
  {
   "cell_type": "code",
   "execution_count": 30,
   "id": "fe24e4a2",
   "metadata": {},
   "outputs": [
    {
     "name": "stdout",
     "output_type": "stream",
     "text": [
      "['a', 'b', 'c', 'd']\n"
     ]
    }
   ],
   "source": [
    "# sorting a list with characters\n",
    "lst = ['a', 'c', 'b', 'd']\n",
    "\n",
    "lst.sort()\n",
    "\n",
    "print(lst)"
   ]
  },
  {
   "cell_type": "code",
   "execution_count": 29,
   "id": "4b27a728",
   "metadata": {},
   "outputs": [
    {
     "ename": "TypeError",
     "evalue": "'<' not supported between instances of 'str' and 'int'",
     "output_type": "error",
     "traceback": [
      "\u001b[1;31m---------------------------------------------------------------------------\u001b[0m",
      "\u001b[1;31mTypeError\u001b[0m                                 Traceback (most recent call last)",
      "\u001b[1;32m~\\AppData\\Local\\Temp/ipykernel_18160/3037146425.py\u001b[0m in \u001b[0;36m<module>\u001b[1;34m\u001b[0m\n\u001b[0;32m      2\u001b[0m \u001b[1;33m\u001b[0m\u001b[0m\n\u001b[0;32m      3\u001b[0m \u001b[1;31m# sort list with element of different datatypes\u001b[0m\u001b[1;33m\u001b[0m\u001b[1;33m\u001b[0m\u001b[0m\n\u001b[1;32m----> 4\u001b[1;33m \u001b[0mprint\u001b[0m\u001b[1;33m(\u001b[0m\u001b[0mlst\u001b[0m\u001b[1;33m.\u001b[0m\u001b[0msort\u001b[0m\u001b[1;33m(\u001b[0m\u001b[1;33m)\u001b[0m\u001b[1;33m)\u001b[0m\u001b[1;33m\u001b[0m\u001b[1;33m\u001b[0m\u001b[0m\n\u001b[0m",
      "\u001b[1;31mTypeError\u001b[0m: '<' not supported between instances of 'str' and 'int'"
     ]
    }
   ],
   "source": [
    "lst = [1, 20, 'b', 5, 'a']\n",
    "\n",
    "# we can't sort list with element of different datatypes\n",
    "print(lst.sort())"
   ]
  },
  {
   "cell_type": "markdown",
   "id": "45994ae0",
   "metadata": {},
   "source": [
    "### List having multiple references"
   ]
  },
  {
   "cell_type": "code",
   "execution_count": 31,
   "id": "06282096",
   "metadata": {},
   "outputs": [
    {
     "name": "stdout",
     "output_type": "stream",
     "text": [
      "Original list:  [1, 2, 3, 4, 5, 6]\n"
     ]
    }
   ],
   "source": [
    "lst = [1, 2, 3, 4, 5]\n",
    "\n",
    "abc = lst\n",
    "\n",
    "abc.append(6)\n",
    "\n",
    "# print original list\n",
    "print(\"Original list: \", lst)"
   ]
  },
  {
   "cell_type": "markdown",
   "id": "d58beee8",
   "metadata": {},
   "source": [
    "### String Split to create a list"
   ]
  },
  {
   "cell_type": "code",
   "execution_count": 32,
   "id": "7b7c783a",
   "metadata": {},
   "outputs": [
    {
     "name": "stdout",
     "output_type": "stream",
     "text": [
      "['one', ' two', ' three', ' four', ' five']\n"
     ]
    }
   ],
   "source": [
    "s = \"one, two, three, four, five\"\n",
    "\n",
    "slst = s.split(',')\n",
    "\n",
    "print(slst)"
   ]
  },
  {
   "cell_type": "code",
   "execution_count": 34,
   "id": "38ba6cfc",
   "metadata": {},
   "outputs": [
    {
     "name": "stdout",
     "output_type": "stream",
     "text": [
      "['This', 'is', 'a', 'test', 'sentence']\n"
     ]
    }
   ],
   "source": [
    "s = \"This is a test sentence\"\n",
    "\n",
    "# default split is white-character: space or tab\n",
    "split_lst = s.split()\n",
    "\n",
    "print(split_lst)"
   ]
  },
  {
   "cell_type": "markdown",
   "id": "c613e907",
   "metadata": {},
   "source": [
    "### List Indexing\n",
    "\n",
    "Each item in the list has an assigned index value starting from 0.\n",
    "\n",
    "Accessing elements in a list is called indexing. "
   ]
  },
  {
   "cell_type": "code",
   "execution_count": 35,
   "id": "d7d86bf4",
   "metadata": {},
   "outputs": [
    {
     "name": "stdout",
     "output_type": "stream",
     "text": [
      "2\n"
     ]
    }
   ],
   "source": [
    "lst = [1, 2, 3, 4]\n",
    "\n",
    "# print second element\n",
    "print(lst[1])"
   ]
  },
  {
   "cell_type": "code",
   "execution_count": 36,
   "id": "c9065ad0",
   "metadata": {},
   "outputs": [
    {
     "name": "stdout",
     "output_type": "stream",
     "text": [
      "4\n"
     ]
    }
   ],
   "source": [
    "# print last element using negative index\n",
    "print(lst[-1])"
   ]
  },
  {
   "cell_type": "markdown",
   "id": "086aef47",
   "metadata": {},
   "source": [
    "### List Slicing\n",
    "\n",
    "Accessing parts of segments is called slicing.\n",
    "\n",
    "The key point to remember is that the ':end' value represents the first value that is not in the selected slice. "
   ]
  },
  {
   "cell_type": "code",
   "execution_count": 38,
   "id": "aa462b36",
   "metadata": {},
   "outputs": [
    {
     "name": "stdout",
     "output_type": "stream",
     "text": [
      "[10, 20, 30, 40, 50, 60, 70, 80]\n",
      "[10, 20, 30, 40]\n"
     ]
    }
   ],
   "source": [
    "numbers = [10, 20, 30, 40, 50, 60, 70, 80]\n",
    "\n",
    "\n",
    "# print all the numbers\n",
    "print(numbers[:])\n",
    "\n",
    "# print from index 0 to index 3\n",
    "print(numbers[0:4])    #[start:end]"
   ]
  },
  {
   "cell_type": "code",
   "execution_count": 39,
   "id": "6ba82242",
   "metadata": {},
   "outputs": [
    {
     "name": "stdout",
     "output_type": "stream",
     "text": [
      "[10, 20, 30, 40, 50, 60, 70, 80]\n"
     ]
    }
   ],
   "source": [
    "print(numbers)"
   ]
  },
  {
   "cell_type": "code",
   "execution_count": 40,
   "id": "66a5b95f",
   "metadata": {},
   "outputs": [
    {
     "name": "stdout",
     "output_type": "stream",
     "text": [
      "[10, 30, 50, 70]\n"
     ]
    }
   ],
   "source": [
    "# print alternate elements in a list\n",
    "print(numbers[::2])   #[start:end:step size]"
   ]
  },
  {
   "cell_type": "code",
   "execution_count": 41,
   "id": "c0322cf2",
   "metadata": {},
   "outputs": [
    {
     "name": "stdout",
     "output_type": "stream",
     "text": [
      "[30, 50, 70]\n"
     ]
    }
   ],
   "source": [
    "# print elements start from 2 through rest of the list with a step size of 2\n",
    "print(numbers[2::2])  #[start:end:step size]"
   ]
  },
  {
   "cell_type": "markdown",
   "id": "47b949fc",
   "metadata": {},
   "source": [
    "### List extend using \"+\""
   ]
  },
  {
   "cell_type": "code",
   "execution_count": 42,
   "id": "15d71d53",
   "metadata": {},
   "outputs": [
    {
     "name": "stdout",
     "output_type": "stream",
     "text": [
      "[1, 2, 3, 4, 'Deepak', 'Priya', 'Rahul', 'Ajay']\n"
     ]
    }
   ],
   "source": [
    "lst1 = [1, 2, 3, 4]\n",
    "\n",
    "lst2 = ['Deepak','Priya', 'Rahul', 'Ajay']\n",
    "\n",
    "new_lst = lst1 + lst2\n",
    "\n",
    "print(new_lst)"
   ]
  },
  {
   "cell_type": "markdown",
   "id": "5b5d5859",
   "metadata": {},
   "source": [
    "### List Count"
   ]
  },
  {
   "cell_type": "code",
   "execution_count": 43,
   "id": "66c4ded4",
   "metadata": {},
   "outputs": [
    {
     "name": "stdout",
     "output_type": "stream",
     "text": [
      "2\n"
     ]
    }
   ],
   "source": [
    "numbers = [1, 2, 3, 1, 3, 4, 2, 5]\n",
    "\n",
    "# frequency of 1 in a list\n",
    "print(numbers.count(1))"
   ]
  },
  {
   "cell_type": "code",
   "execution_count": 44,
   "id": "44245293",
   "metadata": {},
   "outputs": [
    {
     "name": "stdout",
     "output_type": "stream",
     "text": [
      "2\n"
     ]
    }
   ],
   "source": [
    "# frequency of 3 in a list\n",
    "print(numbers.count(3))"
   ]
  },
  {
   "cell_type": "markdown",
   "id": "06fda734",
   "metadata": {},
   "source": [
    "### List Looping"
   ]
  },
  {
   "cell_type": "code",
   "execution_count": 45,
   "id": "9b1515fe",
   "metadata": {},
   "outputs": [
    {
     "name": "stdout",
     "output_type": "stream",
     "text": [
      "one\n",
      "two\n",
      "three\n",
      "four\n"
     ]
    }
   ],
   "source": [
    "# loop through a list\n",
    "\n",
    "lst = ['one', 'two', 'three', 'four']\n",
    "\n",
    "for ele in lst:\n",
    "    print(ele)"
   ]
  },
  {
   "cell_type": "markdown",
   "id": "682a8d80",
   "metadata": {},
   "source": [
    "### List Comprehensions\n",
    "\n",
    "List comprehensions provie a concise way to create lists. \n",
    "\n",
    "Common applications are to make new lists where each element is the result of some operations applied to each member of another sequence or iterable, or to create a subsequence of those elements that satisfy a certain condition. "
   ]
  },
  {
   "cell_type": "code",
   "execution_count": 47,
   "id": "d783a78a",
   "metadata": {},
   "outputs": [
    {
     "name": "stdout",
     "output_type": "stream",
     "text": [
      "[0, 1, 4, 9, 16, 25, 36, 49, 64, 81]\n"
     ]
    }
   ],
   "source": [
    "# example without list comprehension\n",
    "\n",
    "squares = []\n",
    "\n",
    "for i in range(10):\n",
    "    squares.append(i**2)\n",
    "\n",
    "print(squares)"
   ]
  },
  {
   "cell_type": "code",
   "execution_count": 48,
   "id": "74a9cffe",
   "metadata": {},
   "outputs": [
    {
     "name": "stdout",
     "output_type": "stream",
     "text": [
      "[0, 1, 4, 9, 16, 25, 36, 49, 64, 81]\n"
     ]
    }
   ],
   "source": [
    "# using list comprehension\n",
    "squares = [i**2 for i in range(10)]\n",
    "\n",
    "print(squares)"
   ]
  },
  {
   "cell_type": "code",
   "execution_count": 49,
   "id": "da6614f5",
   "metadata": {},
   "outputs": [
    {
     "name": "stdout",
     "output_type": "stream",
     "text": [
      "[-20, -40, 20, 40, 100]\n"
     ]
    }
   ],
   "source": [
    "# another example\n",
    "\n",
    "lst = [-10, -20, 10, 20, 50]\n",
    "\n",
    "# create a new list with values doubled\n",
    "new_lst = [i*2 for i in lst]\n",
    "\n",
    "print(new_lst)"
   ]
  },
  {
   "cell_type": "code",
   "execution_count": 50,
   "id": "62636e01",
   "metadata": {},
   "outputs": [
    {
     "name": "stdout",
     "output_type": "stream",
     "text": [
      "[10, 20, 50]\n"
     ]
    }
   ],
   "source": [
    "# filter the list to exclude negative numbers\n",
    "new_lst = [i for i in lst if i >= 0]\n",
    "\n",
    "print(new_lst)"
   ]
  },
  {
   "cell_type": "code",
   "execution_count": 51,
   "id": "7897e90c",
   "metadata": {},
   "outputs": [
    {
     "name": "stdout",
     "output_type": "stream",
     "text": [
      "[(0, 0), (1, 1), (2, 4), (3, 9), (4, 16), (5, 25), (6, 36), (7, 49), (8, 64), (9, 81)]\n"
     ]
    }
   ],
   "source": [
    "# create a list of tuples like (number, squares_of_number)\n",
    "new_lst = [(i, i**2) for i in range(10)]\n",
    "\n",
    "print(new_lst)"
   ]
  },
  {
   "cell_type": "markdown",
   "id": "ad379e31",
   "metadata": {},
   "source": [
    "### Nested List Comprehensions"
   ]
  },
  {
   "cell_type": "code",
   "execution_count": 52,
   "id": "603fd6f3",
   "metadata": {},
   "outputs": [
    {
     "name": "stdout",
     "output_type": "stream",
     "text": [
      "[[1, 5, 9], [2, 6, 10], [3, 7, 11], [4, 8, 12]]\n"
     ]
    }
   ],
   "source": [
    "# let's suppose we have a matrix\n",
    "\n",
    "matrix = [\n",
    "    [1, 2, 3, 4],\n",
    "    [5, 6, 7, 8],\n",
    "    [9, 10, 11, 12]\n",
    "]\n",
    "\n",
    "\n",
    "# transpose of a matrix without list comprehension\n",
    "transposed = []\n",
    "\n",
    "for i in range(4):\n",
    "    lst = []\n",
    "    for row in matrix:\n",
    "        lst.append(row[i])\n",
    "    transposed.append(lst)\n",
    "    \n",
    "print(transposed)"
   ]
  },
  {
   "cell_type": "code",
   "execution_count": 53,
   "id": "325e238d",
   "metadata": {},
   "outputs": [
    {
     "name": "stdout",
     "output_type": "stream",
     "text": [
      "[[1, 5, 9], [2, 6, 10], [3, 7, 11], [4, 8, 12]]\n"
     ]
    }
   ],
   "source": [
    "# with list comprehension\n",
    "\n",
    "transposed = [[row[i] for row in matrix] for i in range(4)]\n",
    "\n",
    "print(transposed)"
   ]
  },
  {
   "cell_type": "code",
   "execution_count": null,
   "id": "d335ce9b",
   "metadata": {},
   "outputs": [],
   "source": []
  }
 ],
 "metadata": {
  "kernelspec": {
   "display_name": "Python 3 (ipykernel)",
   "language": "python",
   "name": "python3"
  },
  "language_info": {
   "codemirror_mode": {
    "name": "ipython",
    "version": 3
   },
   "file_extension": ".py",
   "mimetype": "text/x-python",
   "name": "python",
   "nbconvert_exporter": "python",
   "pygments_lexer": "ipython3",
   "version": "3.9.7"
  }
 },
 "nbformat": 4,
 "nbformat_minor": 5
}
