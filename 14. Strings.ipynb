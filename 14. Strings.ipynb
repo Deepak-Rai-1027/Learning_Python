{
 "cells": [
  {
   "cell_type": "markdown",
   "id": "a2919eea",
   "metadata": {},
   "source": [
    "## Strings\n",
    "\n",
    "* A string is a sequence of characters.\n",
    "\n",
    "\n",
    "\n",
    "* Computers do not understand characters, they understand numbers (binary). Even though you may see characters on your screen, internally it is stored and manipulated as a combination of 0's and 1's (Binary numbers).\n",
    "\n",
    "\n",
    "\n",
    "* This conversion of character to a number is called encoding, and the reverse process is decoding. \n",
    "* ASCII (older format) and Unicode (modern format) are some of the popular encoding used. \n",
    "\n",
    "\n",
    "\n",
    "* In Python, string is a sequence of Unicode character. "
   ]
  },
  {
   "cell_type": "markdown",
   "id": "e35a1b58",
   "metadata": {},
   "source": [
    "### How to create a string ?\n",
    "\n",
    "* Strings can be created by enclosing characters inside a single quote or double quotes. \n",
    "\n",
    "\n",
    "\n",
    "* Even triple quotes can be used in Python but generally used to represent multiple strings and docstrings."
   ]
  },
  {
   "cell_type": "code",
   "execution_count": 1,
   "id": "430a9499",
   "metadata": {},
   "outputs": [
    {
     "name": "stdout",
     "output_type": "stream",
     "text": [
      "Hello\n"
     ]
    }
   ],
   "source": [
    "myString = 'Hello'\n",
    "\n",
    "print(myString)"
   ]
  },
  {
   "cell_type": "code",
   "execution_count": 2,
   "id": "acd89eea",
   "metadata": {},
   "outputs": [
    {
     "name": "stdout",
     "output_type": "stream",
     "text": [
      "Hello\n"
     ]
    }
   ],
   "source": [
    "myString = \"Hello\"\n",
    "\n",
    "print(myString)"
   ]
  },
  {
   "cell_type": "code",
   "execution_count": 3,
   "id": "a41e2eaa",
   "metadata": {},
   "outputs": [
    {
     "name": "stdout",
     "output_type": "stream",
     "text": [
      "Hello\n"
     ]
    }
   ],
   "source": [
    "myString = '''Hello'''\n",
    "\n",
    "print(myString)"
   ]
  },
  {
   "cell_type": "markdown",
   "id": "9c2a5cca",
   "metadata": {},
   "source": [
    "### How to access characters in a string? \n",
    "\n",
    "* We can access individual characters using indexing and a range of characters using slicing.\n",
    "\n",
    "* Trying to access a character out of index range will raise an IndexError. \n",
    "\n",
    "* The index must be an integer. \n",
    "\n",
    "* Python allows negative indexing for its sequences. "
   ]
  },
  {
   "cell_type": "code",
   "execution_count": 4,
   "id": "e0fd0f13",
   "metadata": {},
   "outputs": [
    {
     "name": "stdout",
     "output_type": "stream",
     "text": [
      "H\n"
     ]
    }
   ],
   "source": [
    "myString = \"Hello\"\n",
    "\n",
    "# print first character\n",
    "print(myString[0])"
   ]
  },
  {
   "cell_type": "code",
   "execution_count": 5,
   "id": "d7689ad1",
   "metadata": {},
   "outputs": [
    {
     "name": "stdout",
     "output_type": "stream",
     "text": [
      "o\n"
     ]
    }
   ],
   "source": [
    "# print last character using negative indexing\n",
    "print(myString[-1])"
   ]
  },
  {
   "cell_type": "code",
   "execution_count": 6,
   "id": "ce75cd00",
   "metadata": {},
   "outputs": [
    {
     "name": "stdout",
     "output_type": "stream",
     "text": [
      "llo\n"
     ]
    }
   ],
   "source": [
    "# slicing 2nd to 5th character\n",
    "print(myString[2:5])"
   ]
  },
  {
   "cell_type": "markdown",
   "id": "a4001c19",
   "metadata": {},
   "source": [
    "If we try to access an index that is out of range or use decimal numbers, we will get errors."
   ]
  },
  {
   "cell_type": "code",
   "execution_count": 7,
   "id": "7697f217",
   "metadata": {},
   "outputs": [
    {
     "ename": "IndexError",
     "evalue": "string index out of range",
     "output_type": "error",
     "traceback": [
      "\u001b[1;31m---------------------------------------------------------------------------\u001b[0m",
      "\u001b[1;31mIndexError\u001b[0m                                Traceback (most recent call last)",
      "\u001b[1;32m~\\AppData\\Local\\Temp/ipykernel_12024/1532349495.py\u001b[0m in \u001b[0;36m<module>\u001b[1;34m\u001b[0m\n\u001b[1;32m----> 1\u001b[1;33m \u001b[0mprint\u001b[0m\u001b[1;33m(\u001b[0m\u001b[0mmyString\u001b[0m\u001b[1;33m[\u001b[0m\u001b[1;36m15\u001b[0m\u001b[1;33m]\u001b[0m\u001b[1;33m)\u001b[0m\u001b[1;33m\u001b[0m\u001b[1;33m\u001b[0m\u001b[0m\n\u001b[0m",
      "\u001b[1;31mIndexError\u001b[0m: string index out of range"
     ]
    }
   ],
   "source": [
    "print(myString[15])"
   ]
  },
  {
   "cell_type": "code",
   "execution_count": 9,
   "id": "8fa8d705",
   "metadata": {},
   "outputs": [
    {
     "ename": "TypeError",
     "evalue": "string indices must be integers",
     "output_type": "error",
     "traceback": [
      "\u001b[1;31m---------------------------------------------------------------------------\u001b[0m",
      "\u001b[1;31mTypeError\u001b[0m                                 Traceback (most recent call last)",
      "\u001b[1;32m~\\AppData\\Local\\Temp/ipykernel_12024/1193294109.py\u001b[0m in \u001b[0;36m<module>\u001b[1;34m\u001b[0m\n\u001b[1;32m----> 1\u001b[1;33m \u001b[0mprint\u001b[0m\u001b[1;33m(\u001b[0m\u001b[0mmyString\u001b[0m\u001b[1;33m[\u001b[0m\u001b[1;36m1.5\u001b[0m\u001b[1;33m]\u001b[0m\u001b[1;33m)\u001b[0m\u001b[1;33m\u001b[0m\u001b[1;33m\u001b[0m\u001b[0m\n\u001b[0m",
      "\u001b[1;31mTypeError\u001b[0m: string indices must be integers"
     ]
    }
   ],
   "source": [
    "print(myString[1.5])"
   ]
  },
  {
   "cell_type": "markdown",
   "id": "93697d57",
   "metadata": {},
   "source": [
    "### How to modify or delete a string?\n",
    "\n",
    "* Strings are immutable, elements of a string cannot be changed once it has been assigned. \n",
    "\n",
    "* We can simply reassign different strings to the same name. "
   ]
  },
  {
   "cell_type": "code",
   "execution_count": 10,
   "id": "b6e9a9dc",
   "metadata": {},
   "outputs": [
    {
     "ename": "TypeError",
     "evalue": "'str' object does not support item assignment",
     "output_type": "error",
     "traceback": [
      "\u001b[1;31m---------------------------------------------------------------------------\u001b[0m",
      "\u001b[1;31mTypeError\u001b[0m                                 Traceback (most recent call last)",
      "\u001b[1;32m~\\AppData\\Local\\Temp/ipykernel_12024/1968537106.py\u001b[0m in \u001b[0;36m<module>\u001b[1;34m\u001b[0m\n\u001b[0;32m      1\u001b[0m \u001b[0mmyString\u001b[0m \u001b[1;33m=\u001b[0m \u001b[1;34m\"Hello\"\u001b[0m\u001b[1;33m\u001b[0m\u001b[1;33m\u001b[0m\u001b[0m\n\u001b[0;32m      2\u001b[0m \u001b[1;33m\u001b[0m\u001b[0m\n\u001b[1;32m----> 3\u001b[1;33m \u001b[0mmyString\u001b[0m\u001b[1;33m[\u001b[0m\u001b[1;36m4\u001b[0m\u001b[1;33m]\u001b[0m \u001b[1;33m=\u001b[0m \u001b[1;34m's'\u001b[0m\u001b[1;33m\u001b[0m\u001b[1;33m\u001b[0m\u001b[0m\n\u001b[0m",
      "\u001b[1;31mTypeError\u001b[0m: 'str' object does not support item assignment"
     ]
    }
   ],
   "source": [
    "myString = \"Hello\"\n",
    "\n",
    "myString[4] = 's'"
   ]
  },
  {
   "cell_type": "markdown",
   "id": "9a2c00ee",
   "metadata": {},
   "source": [
    "We cannot delete or remove characters from a string. But we can delete the entire string. "
   ]
  },
  {
   "cell_type": "code",
   "execution_count": 11,
   "id": "18b99b78",
   "metadata": {},
   "outputs": [
    {
     "ename": "NameError",
     "evalue": "name 'myString' is not defined",
     "output_type": "error",
     "traceback": [
      "\u001b[1;31m---------------------------------------------------------------------------\u001b[0m",
      "\u001b[1;31mNameError\u001b[0m                                 Traceback (most recent call last)",
      "\u001b[1;32m~\\AppData\\Local\\Temp/ipykernel_12024/2574130377.py\u001b[0m in \u001b[0;36m<module>\u001b[1;34m\u001b[0m\n\u001b[0;32m      2\u001b[0m \u001b[1;32mdel\u001b[0m \u001b[0mmyString\u001b[0m\u001b[1;33m\u001b[0m\u001b[1;33m\u001b[0m\u001b[0m\n\u001b[0;32m      3\u001b[0m \u001b[1;33m\u001b[0m\u001b[0m\n\u001b[1;32m----> 4\u001b[1;33m \u001b[0mprint\u001b[0m\u001b[1;33m(\u001b[0m\u001b[0mmyString\u001b[0m\u001b[1;33m)\u001b[0m\u001b[1;33m\u001b[0m\u001b[1;33m\u001b[0m\u001b[0m\n\u001b[0m",
      "\u001b[1;31mNameError\u001b[0m: name 'myString' is not defined"
     ]
    }
   ],
   "source": [
    "# it will delete the complete string\n",
    "del myString\n",
    "\n",
    "print(myString)"
   ]
  },
  {
   "cell_type": "markdown",
   "id": "e52e7fc9",
   "metadata": {},
   "source": [
    "### String Operations. "
   ]
  },
  {
   "cell_type": "markdown",
   "id": "ad0d1ab3",
   "metadata": {},
   "source": [
    "#### Concatenation \n",
    "\n",
    "* Joining of two or more strings into a single one is called concatenation. \n",
    "\n",
    "\n",
    "* The '+' operator does this in Python. \n",
    "\n",
    "\n",
    "\n",
    "* Simply writing two string literals together also concatenates them. \n",
    "\n",
    "\n",
    "\n",
    "* The ' * ' operator can be used to repeat the string for a given number of times. "
   ]
  },
  {
   "cell_type": "code",
   "execution_count": 12,
   "id": "501587e0",
   "metadata": {},
   "outputs": [],
   "source": [
    "s1 = \"Hello \"\n",
    "s2 = \"Deepak\""
   ]
  },
  {
   "cell_type": "code",
   "execution_count": 13,
   "id": "dcbfed2d",
   "metadata": {},
   "outputs": [
    {
     "name": "stdout",
     "output_type": "stream",
     "text": [
      "Hello Deepak\n"
     ]
    }
   ],
   "source": [
    "# concatenation of 2 strings\n",
    "print(s1 + s2)"
   ]
  },
  {
   "cell_type": "code",
   "execution_count": 14,
   "id": "4974aeb3",
   "metadata": {},
   "outputs": [
    {
     "name": "stdout",
     "output_type": "stream",
     "text": [
      "Hello Hello Hello \n"
     ]
    }
   ],
   "source": [
    "# repeat string n times\n",
    "print(s1 * 3)"
   ]
  },
  {
   "cell_type": "markdown",
   "id": "42e912bb",
   "metadata": {},
   "source": [
    "### Iteration through Strings"
   ]
  },
  {
   "cell_type": "code",
   "execution_count": 15,
   "id": "0fe1be5e",
   "metadata": {},
   "outputs": [
    {
     "name": "stdout",
     "output_type": "stream",
     "text": [
      "2  letters found\n"
     ]
    }
   ],
   "source": [
    "# count the numbers of 'o' in a string\n",
    "count = 0\n",
    "\n",
    "for i in \"Hello World\":\n",
    "    if i == 'o':\n",
    "        count += 1\n",
    "\n",
    "print(count, ' letters found')"
   ]
  },
  {
   "cell_type": "markdown",
   "id": "e43699b1",
   "metadata": {},
   "source": [
    "### String Membership Test"
   ]
  },
  {
   "cell_type": "code",
   "execution_count": 17,
   "id": "6d422c11",
   "metadata": {},
   "outputs": [
    {
     "name": "stdout",
     "output_type": "stream",
     "text": [
      "True\n"
     ]
    }
   ],
   "source": [
    "# in operator to test membership\n",
    "\n",
    "# single character\n",
    "print('l' in 'Hello World')"
   ]
  },
  {
   "cell_type": "code",
   "execution_count": 18,
   "id": "eb038294",
   "metadata": {},
   "outputs": [
    {
     "name": "stdout",
     "output_type": "stream",
     "text": [
      "True\n"
     ]
    }
   ],
   "source": [
    "# sub string\n",
    "print('or' in 'Hello World')"
   ]
  },
  {
   "cell_type": "markdown",
   "id": "ef2a037c",
   "metadata": {},
   "source": [
    "### String Methods\n",
    "\n",
    "* Some of the most commonly used string methods are - lower(), upper(), join(), split(), find(), replace() etc."
   ]
  },
  {
   "cell_type": "code",
   "execution_count": 19,
   "id": "4538a363",
   "metadata": {},
   "outputs": [
    {
     "data": {
      "text/plain": [
       "'hello'"
      ]
     },
     "execution_count": 19,
     "metadata": {},
     "output_type": "execute_result"
    }
   ],
   "source": [
    "# Change string case\n",
    "\"Hello\".lower()"
   ]
  },
  {
   "cell_type": "code",
   "execution_count": 20,
   "id": "dffa6bec",
   "metadata": {},
   "outputs": [
    {
     "name": "stdout",
     "output_type": "stream",
     "text": [
      "hellow world\n"
     ]
    }
   ],
   "source": [
    "myString = 'Hello World'\n",
    "\n",
    "print(myString.lower())"
   ]
  },
  {
   "cell_type": "code",
   "execution_count": 21,
   "id": "9a41c343",
   "metadata": {},
   "outputs": [
    {
     "data": {
      "text/plain": [
       "'HELLO'"
      ]
     },
     "execution_count": 21,
     "metadata": {},
     "output_type": "execute_result"
    }
   ],
   "source": [
    "\"Hello\".upper()"
   ]
  },
  {
   "cell_type": "code",
   "execution_count": 22,
   "id": "64692110",
   "metadata": {},
   "outputs": [
    {
     "data": {
      "text/plain": [
       "['This', 'will', 'split', 'all', 'words', 'in', 'a', 'list']"
      ]
     },
     "execution_count": 22,
     "metadata": {},
     "output_type": "execute_result"
    }
   ],
   "source": [
    "# Create list from a string\n",
    "\"This will split all words in a list\".split()"
   ]
  },
  {
   "cell_type": "code",
   "execution_count": 23,
   "id": "89b3b8bf",
   "metadata": {},
   "outputs": [
    {
     "data": {
      "text/plain": [
       "'This will split all words in a list'"
      ]
     },
     "execution_count": 23,
     "metadata": {},
     "output_type": "execute_result"
    }
   ],
   "source": [
    "# Create string from a list\n",
    "' '.join(['This', 'will', 'split', 'all', 'words', 'in', 'a', 'list'])"
   ]
  },
  {
   "cell_type": "code",
   "execution_count": 24,
   "id": "8e2f353e",
   "metadata": {},
   "outputs": [
    {
     "data": {
      "text/plain": [
       "'This,will,split,all,words,in,a,list'"
      ]
     },
     "execution_count": 24,
     "metadata": {},
     "output_type": "execute_result"
    }
   ],
   "source": [
    "','.join(['This', 'will', 'split', 'all', 'words', 'in', 'a', 'list'])"
   ]
  },
  {
   "cell_type": "code",
   "execution_count": 25,
   "id": "5fd3e2b8",
   "metadata": {},
   "outputs": [
    {
     "data": {
      "text/plain": [
       "5"
      ]
     },
     "execution_count": 25,
     "metadata": {},
     "output_type": "execute_result"
    }
   ],
   "source": [
    "# find the position of a substring or character\n",
    "\"Good Morning\".find(\"Mo\")"
   ]
  },
  {
   "cell_type": "code",
   "execution_count": 29,
   "id": "a28a257d",
   "metadata": {},
   "outputs": [
    {
     "name": "stdout",
     "output_type": "stream",
     "text": [
      "Bad Morning\n",
      "Good Morning\n"
     ]
    }
   ],
   "source": [
    "# Replace a substring\n",
    "str1 = \"Bad Morning\"\n",
    "\n",
    "str2 = str1.replace(\"Bad\", \"Good\")\n",
    "\n",
    "print(str1)\n",
    "print(str2)"
   ]
  },
  {
   "cell_type": "markdown",
   "id": "2d132add",
   "metadata": {},
   "source": [
    "### Python program to check whether a string is Palindrome or not."
   ]
  },
  {
   "cell_type": "code",
   "execution_count": 33,
   "id": "d04ce4a2",
   "metadata": {},
   "outputs": [
    {
     "name": "stdout",
     "output_type": "stream",
     "text": [
      "Given String tat is palindrome\n"
     ]
    }
   ],
   "source": [
    "# myStr = \"Madam\"\n",
    "# myStr = \"Deepak\"\n",
    "myStr = \"TAT\"\n",
    "\n",
    "# convert entire string to either lower or upper case\n",
    "myStr = myStr.lower()\n",
    "\n",
    "# reverse string\n",
    "revStr = reversed(myStr)\n",
    "\n",
    "# check if the original string is equal to the reverse string\n",
    "if list(myStr) == list(revStr):\n",
    "    print(\"Given String {} is palindrome\".format(myStr))\n",
    "else:\n",
    "    print(\"Given String {} is not palindrome\".format(myStr))"
   ]
  },
  {
   "cell_type": "markdown",
   "id": "a0614d46",
   "metadata": {},
   "source": [
    "### Python program to Sort words in alphabetic order. "
   ]
  },
  {
   "cell_type": "code",
   "execution_count": 37,
   "id": "fdd68417",
   "metadata": {},
   "outputs": [
    {
     "name": "stdout",
     "output_type": "stream",
     "text": [
      "Alphabetic\n",
      "Order\n",
      "Program\n",
      "Sort\n",
      "in\n",
      "python\n",
      "to\n",
      "words\n"
     ]
    }
   ],
   "source": [
    "myStr = \"python Program to Sort words in Alphabetic Order\"\n",
    "\n",
    "# breakdown the string into a list of words\n",
    "words = myStr.split()\n",
    "\n",
    "# sort the list\n",
    "words.sort()\n",
    "\n",
    "# print Sorted words \n",
    "for word in words:\n",
    "    print(word)"
   ]
  },
  {
   "cell_type": "code",
   "execution_count": null,
   "id": "093f5524",
   "metadata": {},
   "outputs": [],
   "source": []
  }
 ],
 "metadata": {
  "kernelspec": {
   "display_name": "Python 3 (ipykernel)",
   "language": "python",
   "name": "python3"
  },
  "language_info": {
   "codemirror_mode": {
    "name": "ipython",
    "version": 3
   },
   "file_extension": ".py",
   "mimetype": "text/x-python",
   "name": "python",
   "nbconvert_exporter": "python",
   "pygments_lexer": "ipython3",
   "version": "3.9.7"
  }
 },
 "nbformat": 4,
 "nbformat_minor": 5
}
