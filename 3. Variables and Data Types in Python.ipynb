{
 "cells": [
  {
   "cell_type": "markdown",
   "id": "f9001f09",
   "metadata": {},
   "source": [
    "## Variables\n",
    "\n",
    "* A variable is a location in memory used to store some data. \n",
    "\n",
    "\n",
    "* They are given unique names to differentiate between different memory location. the rules for writing a variable name is same as the rules for writing identifiers in Python. \n",
    "\n",
    "\n",
    "* We don't need to declare a variable before using it. In Python, we simply assign a value to a variable and it will exist. We don't even have to declare the type of the variable. This is handled internally according to the type of value we assign to the variable."
   ]
  },
  {
   "cell_type": "markdown",
   "id": "ff5a295b",
   "metadata": {},
   "source": [
    "### Variable Assignments"
   ]
  },
  {
   "cell_type": "code",
   "execution_count": 1,
   "id": "91e3f37c",
   "metadata": {},
   "outputs": [],
   "source": [
    "a = 10   # Integer\n",
    "b = 5.5  # float\n",
    "c = \"ML\" # string"
   ]
  },
  {
   "cell_type": "markdown",
   "id": "3ab6104f",
   "metadata": {},
   "source": [
    "### Multiple Assignments"
   ]
  },
  {
   "cell_type": "code",
   "execution_count": 2,
   "id": "0e17a630",
   "metadata": {},
   "outputs": [],
   "source": [
    "a, b, c = 10, 5.5, \"ML\""
   ]
  },
  {
   "cell_type": "code",
   "execution_count": 3,
   "id": "c1b80305",
   "metadata": {},
   "outputs": [],
   "source": [
    "a = b = c = \"AI\""
   ]
  },
  {
   "cell_type": "markdown",
   "id": "f5ec2964",
   "metadata": {},
   "source": [
    "### Storage Locations"
   ]
  },
  {
   "cell_type": "code",
   "execution_count": 2,
   "id": "b638ee2c",
   "metadata": {},
   "outputs": [
    {
     "name": "stdout",
     "output_type": "stream",
     "text": [
      "2088870177136\n"
     ]
    }
   ],
   "source": [
    "# x and y points to the same memory location, until both has same values assigned.\n",
    "x = 3 \n",
    "\n",
    "print(id(x))"
   ]
  },
  {
   "cell_type": "code",
   "execution_count": 7,
   "id": "c5d4e81b",
   "metadata": {},
   "outputs": [
    {
     "name": "stdout",
     "output_type": "stream",
     "text": [
      "2251619199344\n"
     ]
    }
   ],
   "source": [
    "y = 3\n",
    "\n",
    "print(id(y))"
   ]
  },
  {
   "cell_type": "code",
   "execution_count": 8,
   "id": "dfac26ba",
   "metadata": {},
   "outputs": [
    {
     "name": "stdout",
     "output_type": "stream",
     "text": [
      "2251619199312\n"
     ]
    }
   ],
   "source": [
    "# A different value assigned to 'y' will allocate a different memory location.\n",
    "y = 2\n",
    "\n",
    "print(id(y))"
   ]
  },
  {
   "cell_type": "markdown",
   "id": "2bf602ea",
   "metadata": {},
   "source": [
    "### Data Types\n",
    "\n",
    "Every value in Python has a datatype. Since everything is an object in Python programming, datatypes are actually classes and variables are instance (object) of these classes. \n",
    "\n",
    "\n",
    "### Numbers\n",
    "\n",
    "Integers, floating point numbers and complex numbers falls under Python number category. They are defined as int, float and complex class in Python. \n",
    "\n",
    "\n",
    "We can use the type() function to know which class a variable or a value belongs to and the isinstance() function to check if an object belongs to a particular class."
   ]
  },
  {
   "cell_type": "code",
   "execution_count": 9,
   "id": "0d51e24d",
   "metadata": {},
   "outputs": [
    {
     "name": "stdout",
     "output_type": "stream",
     "text": [
      "5  is of type <class 'int'>\n"
     ]
    }
   ],
   "source": [
    "a = 5\n",
    "\n",
    "print(a, \" is of type\", type(a))"
   ]
  },
  {
   "cell_type": "code",
   "execution_count": 10,
   "id": "dbe21784",
   "metadata": {},
   "outputs": [
    {
     "name": "stdout",
     "output_type": "stream",
     "text": [
      "2.5  is of type <class 'float'>\n"
     ]
    }
   ],
   "source": [
    "a = 2.5\n",
    "\n",
    "print(a, \" is of type\", type(a))"
   ]
  },
  {
   "cell_type": "code",
   "execution_count": 1,
   "id": "da09fb78",
   "metadata": {},
   "outputs": [
    {
     "name": "stdout",
     "output_type": "stream",
     "text": [
      "(1+2j)  is complex number?\n",
      "True\n",
      "True\n",
      "<class 'complex'>\n"
     ]
    }
   ],
   "source": [
    "a = 1 + 2j\n",
    "\n",
    "print(a, \" is complex number?\")\n",
    "print(isinstance(1+2j, complex))\n",
    "print(isinstance(a, complex))\n",
    "print(type(a))"
   ]
  },
  {
   "cell_type": "markdown",
   "id": "5b02152f",
   "metadata": {},
   "source": [
    "### Boolean\n",
    "\n",
    "Boolean represents the truth values True and False"
   ]
  },
  {
   "cell_type": "code",
   "execution_count": 2,
   "id": "fca86dfa",
   "metadata": {},
   "outputs": [
    {
     "name": "stdout",
     "output_type": "stream",
     "text": [
      "<class 'bool'>\n"
     ]
    }
   ],
   "source": [
    "a = True\n",
    "\n",
    "print(type(a))"
   ]
  },
  {
   "cell_type": "markdown",
   "id": "abd724b7",
   "metadata": {},
   "source": [
    "### Python Strings\n",
    "\n",
    "\n",
    "String is sequence of Unicode characters.\n",
    "\n",
    "We can use single quotes or double quotes to represent strings. \n",
    "\n",
    "Multi-line strings can be denoted using triple quotes, ''' or \"\"\". \n",
    "\n",
    "\n",
    "\n",
    "A string in Python consists of a series or sequence of characters - letters, numbers, and special characters. "
   ]
  },
  {
   "cell_type": "code",
   "execution_count": 13,
   "id": "6c753fcb",
   "metadata": {},
   "outputs": [
    {
     "name": "stdout",
     "output_type": "stream",
     "text": [
      "This is online AI course\n",
      "<class 'str'>\n"
     ]
    }
   ],
   "source": [
    "s = \"This is online AI course\"\n",
    "\n",
    "print(s)\n",
    "print(type(s))"
   ]
  },
  {
   "cell_type": "code",
   "execution_count": 9,
   "id": "a9dc12f2",
   "metadata": {},
   "outputs": [
    {
     "name": "stdout",
     "output_type": "stream",
     "text": [
      "This is online \n",
      "       AI course\n",
      "<class 'str'>\n"
     ]
    }
   ],
   "source": [
    "s = \"\"\"This is online \n",
    "       AI course\"\"\"\n",
    "\n",
    "print(s)\n",
    "print(type(s))"
   ]
  },
  {
   "cell_type": "code",
   "execution_count": 14,
   "id": "58b8e95d",
   "metadata": {},
   "outputs": [
    {
     "name": "stdout",
     "output_type": "stream",
     "text": [
      "T\n"
     ]
    }
   ],
   "source": [
    "# Indexing a string\n",
    "print(s[0])"
   ]
  },
  {
   "cell_type": "code",
   "execution_count": 16,
   "id": "b511665e",
   "metadata": {},
   "outputs": [
    {
     "name": "stdout",
     "output_type": "stream",
     "text": [
      "e\n"
     ]
    }
   ],
   "source": [
    "# reading backward\n",
    "print(s[-1])"
   ]
  },
  {
   "cell_type": "code",
   "execution_count": 15,
   "id": "caaf7f10",
   "metadata": {},
   "outputs": [
    {
     "data": {
      "text/plain": [
       "'is online AI course'"
      ]
     },
     "execution_count": 15,
     "metadata": {},
     "output_type": "execute_result"
    }
   ],
   "source": [
    "# Slicing \n",
    "s[5:]"
   ]
  },
  {
   "cell_type": "code",
   "execution_count": 17,
   "id": "a398eb14",
   "metadata": {},
   "outputs": [
    {
     "data": {
      "text/plain": [
       "'is on'"
      ]
     },
     "execution_count": 17,
     "metadata": {},
     "output_type": "execute_result"
    }
   ],
   "source": [
    "s[5:10]"
   ]
  },
  {
   "cell_type": "markdown",
   "id": "088ee36d",
   "metadata": {},
   "source": [
    "### Python List\n",
    "\n",
    "List is an ordered sequence of items. It is one of the most used datatype in Python and is very flexible. All the items in a list do not need to be of the same type. \n",
    "\n",
    "\n",
    "Items are separated by commas and enclosed within brackets [ ]."
   ]
  },
  {
   "cell_type": "code",
   "execution_count": 18,
   "id": "dfb9a947",
   "metadata": {},
   "outputs": [
    {
     "name": "stdout",
     "output_type": "stream",
     "text": [
      "20.5\n"
     ]
    }
   ],
   "source": [
    "a = [10, 20.5, \"Hello\"]\n",
    "\n",
    "print(a[1])"
   ]
  },
  {
   "cell_type": "markdown",
   "id": "2658bf22",
   "metadata": {},
   "source": [
    "Lists are mutable, meaning value of elements of a list can be altered. "
   ]
  },
  {
   "cell_type": "code",
   "execution_count": 19,
   "id": "4a1c54a2",
   "metadata": {},
   "outputs": [
    {
     "name": "stdout",
     "output_type": "stream",
     "text": [
      "[10, 30.7, 'Hello']\n"
     ]
    }
   ],
   "source": [
    "a[1] = 30.7\n",
    "\n",
    "print(a)"
   ]
  },
  {
   "cell_type": "markdown",
   "id": "477aec63",
   "metadata": {},
   "source": [
    "### Python Tuple\n",
    "\n",
    "Tuple is an ordered sequence of items same as list. The only difference is that tuples are immutable. \n",
    "\n",
    "Tuples once created cannot be modified, i.e. Tuples are immutable. "
   ]
  },
  {
   "cell_type": "code",
   "execution_count": 20,
   "id": "3515b09b",
   "metadata": {},
   "outputs": [
    {
     "name": "stdout",
     "output_type": "stream",
     "text": [
      "1.5\n"
     ]
    }
   ],
   "source": [
    "t = (1, 1.5, \"ML\")\n",
    "\n",
    "print(t[1])"
   ]
  },
  {
   "cell_type": "code",
   "execution_count": 21,
   "id": "dfa0bfe7",
   "metadata": {},
   "outputs": [
    {
     "ename": "TypeError",
     "evalue": "'tuple' object does not support item assignment",
     "output_type": "error",
     "traceback": [
      "\u001b[1;31m---------------------------------------------------------------------------\u001b[0m",
      "\u001b[1;31mTypeError\u001b[0m                                 Traceback (most recent call last)",
      "\u001b[1;32m~\\AppData\\Local\\Temp/ipykernel_15132/1287937225.py\u001b[0m in \u001b[0;36m<module>\u001b[1;34m\u001b[0m\n\u001b[1;32m----> 1\u001b[1;33m \u001b[0mt\u001b[0m\u001b[1;33m[\u001b[0m\u001b[1;36m1\u001b[0m\u001b[1;33m]\u001b[0m \u001b[1;33m=\u001b[0m \u001b[1;36m1.25\u001b[0m\u001b[1;33m\u001b[0m\u001b[1;33m\u001b[0m\u001b[0m\n\u001b[0m",
      "\u001b[1;31mTypeError\u001b[0m: 'tuple' object does not support item assignment"
     ]
    }
   ],
   "source": [
    "t[1] = 1.25"
   ]
  },
  {
   "cell_type": "markdown",
   "id": "82c0d4b8",
   "metadata": {},
   "source": [
    "### Python Set\n",
    "\n",
    "Set is an unordered collection of unique items. \n",
    "\n",
    "Set is defined by values separated by comma inside braces { }."
   ]
  },
  {
   "cell_type": "code",
   "execution_count": 23,
   "id": "f339fca2",
   "metadata": {},
   "outputs": [
    {
     "name": "stdout",
     "output_type": "stream",
     "text": [
      "{20, 5, 40, 10, 30}\n"
     ]
    }
   ],
   "source": [
    "a = {10, 30, 20, 40, 5}\n",
    "\n",
    "print(a)"
   ]
  },
  {
   "cell_type": "code",
   "execution_count": 24,
   "id": "66144b7a",
   "metadata": {},
   "outputs": [
    {
     "name": "stdout",
     "output_type": "stream",
     "text": [
      "<class 'set'>\n"
     ]
    }
   ],
   "source": [
    "print(type(a))"
   ]
  },
  {
   "cell_type": "markdown",
   "id": "242e26a1",
   "metadata": {},
   "source": [
    "We can perform set operations like Union, Intersection on two sets. "
   ]
  },
  {
   "cell_type": "code",
   "execution_count": 25,
   "id": "f4ed02ab",
   "metadata": {},
   "outputs": [
    {
     "name": "stdout",
     "output_type": "stream",
     "text": [
      "{10, 20, 30}\n"
     ]
    }
   ],
   "source": [
    "s = {10, 20, 20, 30, 30, 30}\n",
    "\n",
    "print(s)"
   ]
  },
  {
   "cell_type": "code",
   "execution_count": 28,
   "id": "b2e9527a",
   "metadata": {},
   "outputs": [
    {
     "ename": "TypeError",
     "evalue": "'set' object is not subscriptable",
     "output_type": "error",
     "traceback": [
      "\u001b[1;31m---------------------------------------------------------------------------\u001b[0m",
      "\u001b[1;31mTypeError\u001b[0m                                 Traceback (most recent call last)",
      "\u001b[1;32m~\\AppData\\Local\\Temp/ipykernel_15132/4107293298.py\u001b[0m in \u001b[0;36m<module>\u001b[1;34m\u001b[0m\n\u001b[0;32m      1\u001b[0m \u001b[1;31m# We can't index in Set because it's an unordered collection of items.\u001b[0m\u001b[1;33m\u001b[0m\u001b[1;33m\u001b[0m\u001b[0m\n\u001b[1;32m----> 2\u001b[1;33m \u001b[0mprint\u001b[0m\u001b[1;33m(\u001b[0m\u001b[0ms\u001b[0m\u001b[1;33m[\u001b[0m\u001b[1;36m1\u001b[0m\u001b[1;33m]\u001b[0m\u001b[1;33m)\u001b[0m\u001b[1;33m\u001b[0m\u001b[1;33m\u001b[0m\u001b[0m\n\u001b[0m",
      "\u001b[1;31mTypeError\u001b[0m: 'set' object is not subscriptable"
     ]
    }
   ],
   "source": [
    "# We can't index in Set because it's an unordered collection of items.\n",
    "print(s[1])"
   ]
  },
  {
   "cell_type": "markdown",
   "id": "e27dc5bc",
   "metadata": {},
   "source": [
    "### Python Dictionary\n",
    "\n",
    "Dictionary is an unordered collection of key-value pairs. \n",
    "\n",
    "In Python, dictionaries are defined within braces { } with each item being a pair in the form key:value\n",
    "\n",
    "Key and value can be of any type. "
   ]
  },
  {
   "cell_type": "code",
   "execution_count": 29,
   "id": "b9d33921",
   "metadata": {},
   "outputs": [
    {
     "name": "stdout",
     "output_type": "stream",
     "text": [
      "apple\n"
     ]
    }
   ],
   "source": [
    "d = {'a': \"apple\", 'b': \"bat\"}\n",
    "\n",
    "print(d['a'])"
   ]
  },
  {
   "cell_type": "code",
   "execution_count": 31,
   "id": "dedac40a",
   "metadata": {},
   "outputs": [
    {
     "name": "stdout",
     "output_type": "stream",
     "text": [
      "{'Fruits': ['Apple', 'Banana', 'Cherry', 'Lichi'], 'Vegetables': ['Patato', 'Tomato', 'Onion']}\n",
      "['Apple', 'Banana', 'Cherry', 'Lichi']\n"
     ]
    }
   ],
   "source": [
    "d1 = {'Fruits': ['Apple', 'Banana', 'Cherry', 'Lichi'], 'Vegetables': ['Patato', 'Tomato', 'Onion']}\n",
    "\n",
    "print(d1)\n",
    "\n",
    "print(d1['Fruits'])"
   ]
  },
  {
   "cell_type": "markdown",
   "id": "8e97ebb0",
   "metadata": {},
   "source": [
    "### Conversion between Datatypes\n",
    "\n",
    "We can convert between different data types by using different type conversion functions like int(), float(), str() etc."
   ]
  },
  {
   "cell_type": "code",
   "execution_count": 32,
   "id": "96e30f79",
   "metadata": {},
   "outputs": [
    {
     "data": {
      "text/plain": [
       "5.0"
      ]
     },
     "execution_count": 32,
     "metadata": {},
     "output_type": "execute_result"
    }
   ],
   "source": [
    "# Convert integer to float\n",
    "float(5)"
   ]
  },
  {
   "cell_type": "code",
   "execution_count": 35,
   "id": "47a2abf7",
   "metadata": {},
   "outputs": [
    {
     "data": {
      "text/plain": [
       "100"
      ]
     },
     "execution_count": 35,
     "metadata": {},
     "output_type": "execute_result"
    }
   ],
   "source": [
    "# Convert float to integer\n",
    "int(100.5)"
   ]
  },
  {
   "cell_type": "code",
   "execution_count": 36,
   "id": "2527d2c5",
   "metadata": {},
   "outputs": [
    {
     "data": {
      "text/plain": [
       "'20'"
      ]
     },
     "execution_count": 36,
     "metadata": {},
     "output_type": "execute_result"
    }
   ],
   "source": [
    "# Convert integer to string\n",
    "str(20)"
   ]
  },
  {
   "cell_type": "markdown",
   "id": "431077d1",
   "metadata": {},
   "source": [
    "##### Note: Conversion to and from string must contain compatible values. "
   ]
  },
  {
   "cell_type": "code",
   "execution_count": 37,
   "id": "47889bee",
   "metadata": {},
   "outputs": [
    {
     "ename": "ValueError",
     "evalue": "invalid literal for int() with base 10: '10p'",
     "output_type": "error",
     "traceback": [
      "\u001b[1;31m---------------------------------------------------------------------------\u001b[0m",
      "\u001b[1;31mValueError\u001b[0m                                Traceback (most recent call last)",
      "\u001b[1;32m~\\AppData\\Local\\Temp/ipykernel_15132/3315310353.py\u001b[0m in \u001b[0;36m<module>\u001b[1;34m\u001b[0m\n\u001b[1;32m----> 1\u001b[1;33m \u001b[0mint\u001b[0m\u001b[1;33m(\u001b[0m\u001b[1;34m'10p'\u001b[0m\u001b[1;33m)\u001b[0m\u001b[1;33m\u001b[0m\u001b[1;33m\u001b[0m\u001b[0m\n\u001b[0m",
      "\u001b[1;31mValueError\u001b[0m: invalid literal for int() with base 10: '10p'"
     ]
    }
   ],
   "source": [
    "int('10p')"
   ]
  },
  {
   "cell_type": "code",
   "execution_count": 39,
   "id": "bf1bf9e5",
   "metadata": {},
   "outputs": [
    {
     "name": "stdout",
     "output_type": "stream",
     "text": [
      "Congratulations, Deepak! You just wrote 100 lines of code.\n"
     ]
    }
   ],
   "source": [
    "user = \"Deepak\"\n",
    "lines = 100\n",
    "\n",
    "print(\"Congratulations, \"+ user + \"! You just wrote \" + str(lines) + \" lines of code.\")"
   ]
  },
  {
   "cell_type": "markdown",
   "id": "37b93108",
   "metadata": {},
   "source": [
    "We can convert one sequence to another. "
   ]
  },
  {
   "cell_type": "code",
   "execution_count": 40,
   "id": "cc398955",
   "metadata": {},
   "outputs": [
    {
     "name": "stdout",
     "output_type": "stream",
     "text": [
      "<class 'list'>\n"
     ]
    }
   ],
   "source": [
    "a = [1, 2, 3]\n",
    "\n",
    "print(type(a))"
   ]
  },
  {
   "cell_type": "code",
   "execution_count": 41,
   "id": "a871ac01",
   "metadata": {},
   "outputs": [
    {
     "name": "stdout",
     "output_type": "stream",
     "text": [
      "<class 'set'>\n"
     ]
    }
   ],
   "source": [
    "s = set(a)\n",
    "\n",
    "print(type(s))"
   ]
  },
  {
   "cell_type": "code",
   "execution_count": 43,
   "id": "8e8b0442",
   "metadata": {},
   "outputs": [
    {
     "data": {
      "text/plain": [
       "['H', 'e', 'l', 'l', 'o']"
      ]
     },
     "execution_count": 43,
     "metadata": {},
     "output_type": "execute_result"
    }
   ],
   "source": [
    "# Convert string to list\n",
    "list(\"Hello\")"
   ]
  },
  {
   "cell_type": "code",
   "execution_count": null,
   "id": "05c351a1",
   "metadata": {},
   "outputs": [],
   "source": []
  }
 ],
 "metadata": {
  "kernelspec": {
   "display_name": "Python 3 (ipykernel)",
   "language": "python",
   "name": "python3"
  },
  "language_info": {
   "codemirror_mode": {
    "name": "ipython",
    "version": 3
   },
   "file_extension": ".py",
   "mimetype": "text/x-python",
   "name": "python",
   "nbconvert_exporter": "python",
   "pygments_lexer": "ipython3",
   "version": "3.9.7"
  }
 },
 "nbformat": 4,
 "nbformat_minor": 5
}
