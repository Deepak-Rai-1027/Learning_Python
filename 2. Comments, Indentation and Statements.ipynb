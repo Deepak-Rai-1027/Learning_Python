{
 "cells": [
  {
   "cell_type": "markdown",
   "id": "9c34b90e",
   "metadata": {},
   "source": [
    "## Python Comments\n",
    "\n",
    "* Comments are lines that exist in computer programs that are ignored by compilers and interpreters.\n",
    "\n",
    "\n",
    "* Including comments in programs makes code more readable for humans as it provides some information or explanation about what each part of a program is doing. \n",
    "\n",
    "\n",
    "* In general, it is a good idea to write comments while you are writing or updating a program as it is easy to forget your though process later on, and comments written later may be less useful in the long term."
   ]
  },
  {
   "cell_type": "code",
   "execution_count": 1,
   "id": "92d6ad3a",
   "metadata": {},
   "outputs": [
    {
     "name": "stdout",
     "output_type": "stream",
     "text": [
      "Hello, world\n"
     ]
    }
   ],
   "source": [
    "# print Hello ,world to console\n",
    "print(\"Hello, world\")"
   ]
  },
  {
   "cell_type": "markdown",
   "id": "e5265c9c",
   "metadata": {},
   "source": [
    "### Multi Line Comments"
   ]
  },
  {
   "cell_type": "code",
   "execution_count": 2,
   "id": "1c5a0847",
   "metadata": {},
   "outputs": [],
   "source": [
    "# This is a long comment\n",
    "# and it extends \n",
    "# multiple lines."
   ]
  },
  {
   "cell_type": "code",
   "execution_count": 3,
   "id": "2fb7cfda",
   "metadata": {},
   "outputs": [
    {
     "data": {
      "text/plain": [
       "'This is also a \\nperfect example of\\nmulti-line comments.'"
      ]
     },
     "execution_count": 3,
     "metadata": {},
     "output_type": "execute_result"
    }
   ],
   "source": [
    "\"\"\"This is also a \n",
    "perfect example of\n",
    "multi-line comments.\"\"\""
   ]
  },
  {
   "cell_type": "markdown",
   "id": "7f83cea3",
   "metadata": {},
   "source": [
    "## Python Indentation\n",
    "\n",
    "1. Most of the programming languages like C, C++, Java use braces { } to define a block of code. Python uses indentation.\n",
    "2. A code block (body of a function, loop etc.) starts with indentation and ends with the first unindented line. The amount of indentation is up to you, but it must be consistent throughout that block.\n",
    "3. Generally four whitespaces are used for indentation and is preferred over tabs."
   ]
  },
  {
   "cell_type": "code",
   "execution_count": 6,
   "id": "16f77153",
   "metadata": {},
   "outputs": [
    {
     "name": "stdout",
     "output_type": "stream",
     "text": [
      "0\n",
      "1\n",
      "2\n",
      "3\n",
      "4\n",
      "5\n",
      "6\n",
      "7\n",
      "8\n",
      "9\n",
      "100\n"
     ]
    }
   ],
   "source": [
    "# Use four whitespaces\n",
    "for i in range(10):\n",
    "    print(i)\n",
    "    \n",
    "# This is not part of for code block\n",
    "print(100)"
   ]
  },
  {
   "cell_type": "code",
   "execution_count": 7,
   "id": "75dc3fd2",
   "metadata": {},
   "outputs": [
    {
     "name": "stdout",
     "output_type": "stream",
     "text": [
      "Machine Learning\n"
     ]
    }
   ],
   "source": [
    "# Indentation makes the code more readable\n",
    "\n",
    "if True:\n",
    "    print(\"Machine Learning\")\n",
    "    c = \"AAIC\""
   ]
  },
  {
   "cell_type": "code",
   "execution_count": 8,
   "id": "0cd62aee",
   "metadata": {},
   "outputs": [
    {
     "name": "stdout",
     "output_type": "stream",
     "text": [
      "Machine Learning\n"
     ]
    }
   ],
   "source": [
    "if True: print(\"Machine Learning\"); c = \"AAIC\""
   ]
  },
  {
   "cell_type": "markdown",
   "id": "20825d43",
   "metadata": {},
   "source": [
    "## Python Statement\n",
    "\n",
    "* Instructions that a Python interpreter can execute are called statements."
   ]
  },
  {
   "cell_type": "code",
   "execution_count": 9,
   "id": "c971b97a",
   "metadata": {},
   "outputs": [],
   "source": [
    "# Single statement\n",
    "a = 1"
   ]
  },
  {
   "cell_type": "markdown",
   "id": "659c3e55",
   "metadata": {},
   "source": [
    "### Multi-Line Statement\n",
    "\n",
    "In Python, end of a statement is marked by a newline character. But we can make a statement extend over multiple lines with the line continuation character."
   ]
  },
  {
   "cell_type": "code",
   "execution_count": 10,
   "id": "a2827791",
   "metadata": {},
   "outputs": [],
   "source": [
    "a = 1 + 2 + 3 + \\\n",
    "    4 + 5 + 6 + \\\n",
    "    7 + 8"
   ]
  },
  {
   "cell_type": "code",
   "execution_count": 12,
   "id": "b43c779c",
   "metadata": {},
   "outputs": [
    {
     "name": "stdout",
     "output_type": "stream",
     "text": [
      "36\n"
     ]
    }
   ],
   "source": [
    "print(a)"
   ]
  },
  {
   "cell_type": "code",
   "execution_count": 13,
   "id": "4597c707",
   "metadata": {},
   "outputs": [],
   "source": [
    "# another way is to use parenthesis\n",
    "a = (1 + 2 + 3 + \n",
    "    4 + 5 + 6 + \n",
    "    7 + 8)\n"
   ]
  },
  {
   "cell_type": "code",
   "execution_count": 14,
   "id": "e840c0c1",
   "metadata": {},
   "outputs": [
    {
     "name": "stdout",
     "output_type": "stream",
     "text": [
      "36\n"
     ]
    }
   ],
   "source": [
    "print(a)"
   ]
  },
  {
   "cell_type": "code",
   "execution_count": 15,
   "id": "dc6e32d6",
   "metadata": {},
   "outputs": [],
   "source": [
    "# put multiple statements in a single line\n",
    "a = 10; b = 20; c = 30"
   ]
  },
  {
   "cell_type": "code",
   "execution_count": 16,
   "id": "916930d8",
   "metadata": {},
   "outputs": [
    {
     "name": "stdout",
     "output_type": "stream",
     "text": [
      "10 20 30\n"
     ]
    }
   ],
   "source": [
    "print(a,b,c)"
   ]
  },
  {
   "cell_type": "code",
   "execution_count": null,
   "id": "658ba204",
   "metadata": {},
   "outputs": [],
   "source": []
  }
 ],
 "metadata": {
  "kernelspec": {
   "display_name": "Python 3 (ipykernel)",
   "language": "python",
   "name": "python3"
  },
  "language_info": {
   "codemirror_mode": {
    "name": "ipython",
    "version": 3
   },
   "file_extension": ".py",
   "mimetype": "text/x-python",
   "name": "python",
   "nbconvert_exporter": "python",
   "pygments_lexer": "ipython3",
   "version": "3.9.7"
  }
 },
 "nbformat": 4,
 "nbformat_minor": 5
}
